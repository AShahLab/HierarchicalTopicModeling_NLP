{
 "nbformat": 4,
 "nbformat_minor": 0,
 "metadata": {
  "colab": {
   "name": "Training_LDA&HLDA_NLP.ipynb",
   "provenance": [],
   "collapsed_sections": [
    "6XlHkZT8Y73L"
   ],
   "machine_shape": "hm"
  },
  "kernelspec": {
   "name": "python3",
   "display_name": "Python 3"
  },
  "language_info": {
   "name": "python"
  }
 },
 "cells": [
  {
   "cell_type": "markdown",
   "source": [
    "## **Libraries**"
   ],
   "metadata": {
    "id": "RSo08WvDLb52",
    "pycharm": {
     "name": "#%% md\n"
    }
   }
  },
  {
   "cell_type": "code",
   "source": [
    "!pip install contractions#install contractions\n",
    "!pip install tomotopy#install tomotopy"
   ],
   "metadata": {
    "id": "8Y67Erp9_0BB",
    "pycharm": {
     "name": "#%%\n"
    }
   },
   "execution_count": null,
   "outputs": []
  },
  {
   "cell_type": "code",
   "execution_count": 1,
   "metadata": {
    "id": "6TDxgAAPDH39",
    "pycharm": {
     "name": "#%%\n"
    }
   },
   "outputs": [],
   "source": [
    "#Import libraries\n",
    "import pandas as pd\n",
    "import numpy as np\n",
    "import os,glob\n",
    "from google.colab import drive\n",
    "from sklearn.feature_extraction.text import TfidfVectorizer\n",
    "from spacy.lang.en.stop_words import STOP_WORDS as stopwords\n",
    "import regex as re\n",
    "import nltk\n",
    "from sklearn.decomposition import NMF\n",
    "from sklearn.decomposition import TruncatedSVD\n",
    "import seaborn as sns\n",
    "import matplotlib.pyplot as plt\n",
    "from sklearn.metrics.pairwise import cosine_similarity\n",
    "from sklearn.cluster import KMeans\n",
    "import os  # for os.path.basename\n",
    "\n",
    "import matplotlib.pyplot as plt\n",
    "import matplotlib as mpl\n",
    "import contractions\n",
    "from sklearn.manifold import MDS\n",
    "from scipy.cluster.hierarchy import ward, dendrogram\n",
    "# import mpld3\n",
    "from spacy.lang.en.stop_words import STOP_WORDS as en_stop \n",
    "from sklearn import preprocessing\n",
    "import spacy\n",
    "import io\n",
    "import os.path\n",
    "import re\n",
    "import tarfile\n",
    "from nltk.tokenize import RegexpTokenizer\n",
    "from nltk.stem import WordNetLemmatizer\n",
    "import smart_open\n",
    "from gensim.models import Phrases\n",
    "from gensim.models.phrases import Phraser\n",
    "from gensim.corpora import Dictionary\n",
    "from gensim.models import LdaModel,CoherenceModel,LdaMulticore,Phrases\n",
    "from tqdm import tqdm\n",
    "from gensim.test.utils import datapath\n",
    "import sys\n",
    "import tomotopy as tp\n",
    "import numpy as np"
   ]
  },
  {
   "cell_type": "code",
   "execution_count": 2,
   "metadata": {
    "colab": {
     "base_uri": "https://localhost:8080/"
    },
    "outputId": "f2111168-6b2e-4d24-9dee-b47dfba8ecd5",
    "id": "3TKMsU-Lm4Yp",
    "pycharm": {
     "name": "#%%\n"
    }
   },
   "outputs": [
    {
     "output_type": "stream",
     "name": "stdout",
     "text": [
      "Drive already mounted at /content/drive; to attempt to forcibly remount, call drive.mount(\"/content/drive\", force_remount=True).\n"
     ]
    }
   ],
   "source": [
    "#mount drive\n",
    "drive.mount('/content/drive')"
   ]
  },
  {
   "cell_type": "code",
   "execution_count": 3,
   "metadata": {
    "id": "Uks9Ve_6m4Yq",
    "pycharm": {
     "name": "#%%\n"
    }
   },
   "outputs": [],
   "source": [
    "#Assign filename and import data to dataframe\n",
    "filepath='/content/drive/My Drive/Datasets/Capstone/Allthenews-TM/all-the-news-2-1.csv'\n",
    "df=pd.read_csv(filepath,nrows=2000000)"
   ]
  },
  {
   "cell_type": "markdown",
   "metadata": {
    "id": "6XlHkZT8Y73L",
    "pycharm": {
     "name": "#%% md\n"
    }
   },
   "source": [
    "# EDA and Preprocessing"
   ]
  },
  {
   "cell_type": "code",
   "execution_count": 4,
   "metadata": {
    "colab": {
     "base_uri": "https://localhost:8080/",
     "height": 206
    },
    "id": "YuR6h3y7DhII",
    "outputId": "4a334354-acef-4f36-8d82-d993f15ddc78",
    "pycharm": {
     "name": "#%%\n"
    }
   },
   "outputs": [
    {
     "output_type": "execute_result",
     "data": {
      "text/plain": [
       "                  date  year  month  day       author  \\\n",
       "0  2016-12-09 18:31:00  2016   12.0    9  Lee Drutman   \n",
       "1  2016-10-07 21:26:46  2016   10.0    7  Scott Davis   \n",
       "2  2018-01-26 00:00:00  2018    1.0   26          NaN   \n",
       "3  2019-06-27 00:00:00  2019    6.0   27          NaN   \n",
       "4  2016-01-27 00:00:00  2016    1.0   27          NaN   \n",
       "\n",
       "                                               title  \\\n",
       "0  We should take concerns about the health of li...   \n",
       "1  Colts GM Ryan Grigson says Andrew Luck's contr...   \n",
       "2       Trump denies report he ordered Mueller fired   \n",
       "3  France's Sarkozy reveals his 'Passions' but in...   \n",
       "4  Paris Hilton: Woman In Black For Uncle Monty's...   \n",
       "\n",
       "                                             article  \\\n",
       "0  This post is part of Polyarchy, an independent...   \n",
       "1   The Indianapolis Colts made Andrew Luck the h...   \n",
       "2  DAVOS, Switzerland (Reuters) - U.S. President ...   \n",
       "3  PARIS (Reuters) - Former French president Nico...   \n",
       "4  Paris Hilton arrived at LAX Wednesday dressed ...   \n",
       "\n",
       "                                                 url     section  \\\n",
       "0  https://www.vox.com/polyarchy/2016/12/9/138983...         NaN   \n",
       "1  https://www.businessinsider.com/colts-gm-ryan-...         NaN   \n",
       "2  https://www.reuters.com/article/us-davos-meeti...       Davos   \n",
       "3  https://www.reuters.com/article/france-politic...  World News   \n",
       "4  https://www.tmz.com/2016/01/27/paris-hilton-mo...         NaN   \n",
       "\n",
       "        publication  \n",
       "0               Vox  \n",
       "1  Business Insider  \n",
       "2           Reuters  \n",
       "3           Reuters  \n",
       "4               TMZ  "
      ],
      "text/html": [
       "\n",
       "  <div id=\"df-c8baebb6-f844-4aa2-8f19-e25edc928033\">\n",
       "    <div class=\"colab-df-container\">\n",
       "      <div>\n",
       "<style scoped>\n",
       "    .dataframe tbody tr th:only-of-type {\n",
       "        vertical-align: middle;\n",
       "    }\n",
       "\n",
       "    .dataframe tbody tr th {\n",
       "        vertical-align: top;\n",
       "    }\n",
       "\n",
       "    .dataframe thead th {\n",
       "        text-align: right;\n",
       "    }\n",
       "</style>\n",
       "<table border=\"1\" class=\"dataframe\">\n",
       "  <thead>\n",
       "    <tr style=\"text-align: right;\">\n",
       "      <th></th>\n",
       "      <th>date</th>\n",
       "      <th>year</th>\n",
       "      <th>month</th>\n",
       "      <th>day</th>\n",
       "      <th>author</th>\n",
       "      <th>title</th>\n",
       "      <th>article</th>\n",
       "      <th>url</th>\n",
       "      <th>section</th>\n",
       "      <th>publication</th>\n",
       "    </tr>\n",
       "  </thead>\n",
       "  <tbody>\n",
       "    <tr>\n",
       "      <th>0</th>\n",
       "      <td>2016-12-09 18:31:00</td>\n",
       "      <td>2016</td>\n",
       "      <td>12.0</td>\n",
       "      <td>9</td>\n",
       "      <td>Lee Drutman</td>\n",
       "      <td>We should take concerns about the health of li...</td>\n",
       "      <td>This post is part of Polyarchy, an independent...</td>\n",
       "      <td>https://www.vox.com/polyarchy/2016/12/9/138983...</td>\n",
       "      <td>NaN</td>\n",
       "      <td>Vox</td>\n",
       "    </tr>\n",
       "    <tr>\n",
       "      <th>1</th>\n",
       "      <td>2016-10-07 21:26:46</td>\n",
       "      <td>2016</td>\n",
       "      <td>10.0</td>\n",
       "      <td>7</td>\n",
       "      <td>Scott Davis</td>\n",
       "      <td>Colts GM Ryan Grigson says Andrew Luck's contr...</td>\n",
       "      <td>The Indianapolis Colts made Andrew Luck the h...</td>\n",
       "      <td>https://www.businessinsider.com/colts-gm-ryan-...</td>\n",
       "      <td>NaN</td>\n",
       "      <td>Business Insider</td>\n",
       "    </tr>\n",
       "    <tr>\n",
       "      <th>2</th>\n",
       "      <td>2018-01-26 00:00:00</td>\n",
       "      <td>2018</td>\n",
       "      <td>1.0</td>\n",
       "      <td>26</td>\n",
       "      <td>NaN</td>\n",
       "      <td>Trump denies report he ordered Mueller fired</td>\n",
       "      <td>DAVOS, Switzerland (Reuters) - U.S. President ...</td>\n",
       "      <td>https://www.reuters.com/article/us-davos-meeti...</td>\n",
       "      <td>Davos</td>\n",
       "      <td>Reuters</td>\n",
       "    </tr>\n",
       "    <tr>\n",
       "      <th>3</th>\n",
       "      <td>2019-06-27 00:00:00</td>\n",
       "      <td>2019</td>\n",
       "      <td>6.0</td>\n",
       "      <td>27</td>\n",
       "      <td>NaN</td>\n",
       "      <td>France's Sarkozy reveals his 'Passions' but in...</td>\n",
       "      <td>PARIS (Reuters) - Former French president Nico...</td>\n",
       "      <td>https://www.reuters.com/article/france-politic...</td>\n",
       "      <td>World News</td>\n",
       "      <td>Reuters</td>\n",
       "    </tr>\n",
       "    <tr>\n",
       "      <th>4</th>\n",
       "      <td>2016-01-27 00:00:00</td>\n",
       "      <td>2016</td>\n",
       "      <td>1.0</td>\n",
       "      <td>27</td>\n",
       "      <td>NaN</td>\n",
       "      <td>Paris Hilton: Woman In Black For Uncle Monty's...</td>\n",
       "      <td>Paris Hilton arrived at LAX Wednesday dressed ...</td>\n",
       "      <td>https://www.tmz.com/2016/01/27/paris-hilton-mo...</td>\n",
       "      <td>NaN</td>\n",
       "      <td>TMZ</td>\n",
       "    </tr>\n",
       "  </tbody>\n",
       "</table>\n",
       "</div>\n",
       "      <button class=\"colab-df-convert\" onclick=\"convertToInteractive('df-c8baebb6-f844-4aa2-8f19-e25edc928033')\"\n",
       "              title=\"Convert this dataframe to an interactive table.\"\n",
       "              style=\"display:none;\">\n",
       "        \n",
       "  <svg xmlns=\"http://www.w3.org/2000/svg\" height=\"24px\"viewBox=\"0 0 24 24\"\n",
       "       width=\"24px\">\n",
       "    <path d=\"M0 0h24v24H0V0z\" fill=\"none\"/>\n",
       "    <path d=\"M18.56 5.44l.94 2.06.94-2.06 2.06-.94-2.06-.94-.94-2.06-.94 2.06-2.06.94zm-11 1L8.5 8.5l.94-2.06 2.06-.94-2.06-.94L8.5 2.5l-.94 2.06-2.06.94zm10 10l.94 2.06.94-2.06 2.06-.94-2.06-.94-.94-2.06-.94 2.06-2.06.94z\"/><path d=\"M17.41 7.96l-1.37-1.37c-.4-.4-.92-.59-1.43-.59-.52 0-1.04.2-1.43.59L10.3 9.45l-7.72 7.72c-.78.78-.78 2.05 0 2.83L4 21.41c.39.39.9.59 1.41.59.51 0 1.02-.2 1.41-.59l7.78-7.78 2.81-2.81c.8-.78.8-2.07 0-2.86zM5.41 20L4 18.59l7.72-7.72 1.47 1.35L5.41 20z\"/>\n",
       "  </svg>\n",
       "      </button>\n",
       "      \n",
       "  <style>\n",
       "    .colab-df-container {\n",
       "      display:flex;\n",
       "      flex-wrap:wrap;\n",
       "      gap: 12px;\n",
       "    }\n",
       "\n",
       "    .colab-df-convert {\n",
       "      background-color: #E8F0FE;\n",
       "      border: none;\n",
       "      border-radius: 50%;\n",
       "      cursor: pointer;\n",
       "      display: none;\n",
       "      fill: #1967D2;\n",
       "      height: 32px;\n",
       "      padding: 0 0 0 0;\n",
       "      width: 32px;\n",
       "    }\n",
       "\n",
       "    .colab-df-convert:hover {\n",
       "      background-color: #E2EBFA;\n",
       "      box-shadow: 0px 1px 2px rgba(60, 64, 67, 0.3), 0px 1px 3px 1px rgba(60, 64, 67, 0.15);\n",
       "      fill: #174EA6;\n",
       "    }\n",
       "\n",
       "    [theme=dark] .colab-df-convert {\n",
       "      background-color: #3B4455;\n",
       "      fill: #D2E3FC;\n",
       "    }\n",
       "\n",
       "    [theme=dark] .colab-df-convert:hover {\n",
       "      background-color: #434B5C;\n",
       "      box-shadow: 0px 1px 3px 1px rgba(0, 0, 0, 0.15);\n",
       "      filter: drop-shadow(0px 1px 2px rgba(0, 0, 0, 0.3));\n",
       "      fill: #FFFFFF;\n",
       "    }\n",
       "  </style>\n",
       "\n",
       "      <script>\n",
       "        const buttonEl =\n",
       "          document.querySelector('#df-c8baebb6-f844-4aa2-8f19-e25edc928033 button.colab-df-convert');\n",
       "        buttonEl.style.display =\n",
       "          google.colab.kernel.accessAllowed ? 'block' : 'none';\n",
       "\n",
       "        async function convertToInteractive(key) {\n",
       "          const element = document.querySelector('#df-c8baebb6-f844-4aa2-8f19-e25edc928033');\n",
       "          const dataTable =\n",
       "            await google.colab.kernel.invokeFunction('convertToInteractive',\n",
       "                                                     [key], {});\n",
       "          if (!dataTable) return;\n",
       "\n",
       "          const docLinkHtml = 'Like what you see? Visit the ' +\n",
       "            '<a target=\"_blank\" href=https://colab.research.google.com/notebooks/data_table.ipynb>data table notebook</a>'\n",
       "            + ' to learn more about interactive tables.';\n",
       "          element.innerHTML = '';\n",
       "          dataTable['output_type'] = 'display_data';\n",
       "          await google.colab.output.renderOutput(dataTable, element);\n",
       "          const docLink = document.createElement('div');\n",
       "          docLink.innerHTML = docLinkHtml;\n",
       "          element.appendChild(docLink);\n",
       "        }\n",
       "      </script>\n",
       "    </div>\n",
       "  </div>\n",
       "  "
      ]
     },
     "metadata": {},
     "execution_count": 4
    }
   ],
   "source": [
    "#@title\n",
    "#Look at data\n",
    "df=df.loc[:,'date':'publication']\n",
    "df.head()"
   ]
  },
  {
   "cell_type": "code",
   "execution_count": 5,
   "metadata": {
    "colab": {
     "base_uri": "https://localhost:8080/"
    },
    "id": "4lNfyEncH35C",
    "outputId": "6c4d847f-9ffd-4ab7-abae-42775e55c35b",
    "pycharm": {
     "name": "#%%\n"
    }
   },
   "outputs": [
    {
     "output_type": "execute_result",
     "data": {
      "text/plain": [
       "Reuters               676052\n",
       "CNBC                  179930\n",
       "The Hill              178473\n",
       "People                125582\n",
       "CNN                   101297\n",
       "Vice                   95150\n",
       "Mashable               86361\n",
       "Refinery 29            80130\n",
       "The New York Times     51624\n",
       "TechCrunch             45834\n",
       "The Verge              45514\n",
       "TMZ                    43689\n",
       "Vox                    42072\n",
       "Axios                  41478\n",
       "Politico               38131\n",
       "Buzzfeed News          29896\n",
       "Gizmodo                26309\n",
       "Economist              22889\n",
       "Fox News               20144\n",
       "Wired                  17621\n",
       "Vice News              15539\n",
       "Hyperallergic          11683\n",
       "New Republic           10924\n",
       "Business Insider        9409\n",
       "New Yorker              4266\n",
       "Washington Post            3\n",
       "Name: publication, dtype: int64"
      ]
     },
     "metadata": {},
     "execution_count": 5
    }
   ],
   "source": [
    "df=df[['year','month','title','article','section','publication']]\n",
    "df['publication'].value_counts(dropna=False)"
   ]
  },
  {
   "cell_type": "code",
   "source": [
    "#This is just to check how many of each section is in the corpus. I tried to keep around 30K of each broader topic.\n",
    "df_new=df[df['section'].str.contains('Food',na=False)]#checking how many instance of individual sections are in the corpus\n",
    "counts=df_new['section'].value_counts(dropna=False).reset_index(name='counts')\n",
    "sec=counts[counts['counts']>0]\n",
    "print(counts['counts'].sum())\n",
    "print(sec)"
   ],
   "metadata": {
    "id": "T7S31DdHi5J7",
    "pycharm": {
     "name": "#%%\n"
    }
   },
   "execution_count": null,
   "outputs": []
  },
  {
   "cell_type": "code",
   "source": [
    "#Getting only Technology, Healthcare, Business/Finance, and Entertainment sections\n",
    "df=df[(df['section'].str.contains('Health',na=False))|(df['section']=='Health and Science')|(df['section'].str.contains('Entertainment',na=False))|(df['section'].str.contains('Finance',na=False))|(df['section'].str.contains('Money',na=False))| (df['section']=='Tech')|(df['section'].str.contains('Tech by VICE',na=False))]\n",
    "# df.to_csv(r'/content/drive/My Drive/Datasets/Capstone/Allthenews-TM/subfolder/news-30k-postEDA_postfilter.csv')#Checkpoint"
   ],
   "metadata": {
    "id": "4OsBiEjuwoel",
    "pycharm": {
     "name": "#%%\n"
    }
   },
   "execution_count": 6,
   "outputs": []
  },
  {
   "cell_type": "code",
   "source": [
    "#This is just to check how many of each section is in the corpus. I tried to keep around 30K of each broader topic.\n",
    "counts=df['section'].value_counts(dropna=False).reset_index(name='counts')\n",
    "sec=counts[counts['counts']>0]\n",
    "print(counts['counts'].sum())\n",
    "print(sec)"
   ],
   "metadata": {
    "id": "9WXRx-VJIrtX",
    "pycharm": {
     "name": "#%%\n"
    }
   },
   "execution_count": null,
   "outputs": []
  },
  {
   "cell_type": "code",
   "execution_count": 8,
   "metadata": {
    "colab": {
     "base_uri": "https://localhost:8080/"
    },
    "id": "dJvHWGeLkz6T",
    "outputId": "950bf0ee-fc0d-4063-d0f7-d7946addd268",
    "pycharm": {
     "name": "#%%\n"
    }
   },
   "outputs": [
    {
     "output_type": "execute_result",
     "data": {
      "text/plain": [
       "year             int64\n",
       "month          float64\n",
       "title           object\n",
       "article         object\n",
       "section         object\n",
       "publication     object\n",
       "dtype: object"
      ]
     },
     "metadata": {},
     "execution_count": 8
    }
   ],
   "source": [
    "df.dtypes"
   ]
  },
  {
   "cell_type": "code",
   "source": [
    "df['year']=df['year'].astype(int)\n",
    "df['article']=df['article'].astype(str)\n",
    "df['section']=df['section'].astype(str)\n",
    "df['publication']=df['publication'].astype(str)"
   ],
   "metadata": {
    "id": "J8mv_oygAH4H",
    "pycharm": {
     "name": "#%%\n"
    }
   },
   "execution_count": 9,
   "outputs": []
  },
  {
   "cell_type": "code",
   "execution_count": 10,
   "metadata": {
    "colab": {
     "base_uri": "https://localhost:8080/"
    },
    "id": "XbnbSw78NRXK",
    "outputId": "c7a655c9-c11e-46c8-d05d-db808c97ac1a",
    "pycharm": {
     "name": "#%%\n"
    }
   },
   "outputs": [
    {
     "output_type": "stream",
     "name": "stdout",
     "text": [
      "How much data is available for each year\n",
      "2017    27803\n",
      "2016    25516\n",
      "2018    21259\n",
      "2019    11324\n",
      "Name: year, dtype: int64\n"
     ]
    }
   ],
   "source": [
    "print('How much data is available for each year')\n",
    "print(df['year'].value_counts())"
   ]
  },
  {
   "cell_type": "code",
   "execution_count": 11,
   "metadata": {
    "colab": {
     "base_uri": "https://localhost:8080/",
     "height": 352
    },
    "id": "18_2QKvsOf5L",
    "outputId": "0f77f461-f7a8-4990-a044-57403aec6251",
    "pycharm": {
     "name": "#%%\n"
    }
   },
   "outputs": [
    {
     "output_type": "stream",
     "name": "stderr",
     "text": [
      "/usr/local/lib/python3.7/dist-packages/seaborn/_decorators.py:43: FutureWarning: Pass the following variables as keyword args: x, y. From version 0.12, the only valid positional argument will be `data`, and passing other arguments without an explicit keyword will result in an error or misinterpretation.\n",
      "  FutureWarning\n"
     ]
    },
    {
     "output_type": "execute_result",
     "data": {
      "text/plain": [
       "Text(0, 0.5, '# of Occurences')"
      ]
     },
     "metadata": {},
     "execution_count": 11
    },
    {
     "output_type": "display_data",
     "data": {
      "text/plain": [
       "<Figure size 432x288 with 1 Axes>"
      ],
      "image/png": "[encoded data removed]"
     },
     "metadata": {
      "needs_background": "light"
     }
    }
   ],
   "source": [
    "#Plot the yearly distibution\n",
    "import seaborn as sns\n",
    "import matplotlib.pyplot as plt\n",
    "\n",
    "plots=sns.barplot(df['year'].value_counts().sort_index().reset_index(name='freq')['index'],df['year'].value_counts().sort_index().reset_index(name='freq')['freq'])\n",
    "for bar in plots.patches:\n",
    "  plt.annotate(format(bar.get_height()),\n",
    "                   (bar.get_x() + bar.get_width() / 2,\n",
    "                    bar.get_height()), ha='center', va='center',\n",
    "                   size=7, xytext=(0, 8),\n",
    "                   textcoords='offset points')\n",
    "plt.xlabel(\"Years\")\n",
    "plt.ylabel(\"# of Occurences\")"
   ]
  },
  {
   "cell_type": "code",
   "execution_count": 12,
   "metadata": {
    "id": "1rO3N4EuX4VE",
    "colab": {
     "base_uri": "https://localhost:8080/"
    },
    "outputId": "ae2e9fc5-9a7f-451d-d333-c78a44ef9ab4",
    "pycharm": {
     "name": "#%%\n"
    }
   },
   "outputs": [
    {
     "output_type": "stream",
     "name": "stdout",
     "text": [
      "We have 0 publication cells that are empty\n",
      "We have 0 article cells that are empty\n",
      "We have 1 title cells that are empty\n"
     ]
    }
   ],
   "source": [
    "print('We have {} publication cells that are empty'.format(df['publication'].isnull().sum()))\n",
    "print('We have {} article cells that are empty'.format(df['article'].isnull().sum()))\n",
    "print('We have {} title cells that are empty'.format(df['title'].isnull().sum()))"
   ]
  },
  {
   "cell_type": "markdown",
   "metadata": {
    "id": "3QHquHdgSaMw",
    "pycharm": {
     "name": "#%% md\n"
    }
   },
   "source": [
    "We can ensure if article column is empty then we will get value from title column and if it is still empty then we will drop the row"
   ]
  },
  {
   "cell_type": "code",
   "execution_count": 13,
   "metadata": {
    "colab": {
     "base_uri": "https://localhost:8080/"
    },
    "id": "2CwBI82wSOUo",
    "outputId": "48b488f9-c1f6-4627-b803-938cd2b7dd2e",
    "pycharm": {
     "name": "#%%\n"
    }
   },
   "outputs": [
    {
     "output_type": "stream",
     "name": "stdout",
     "text": [
      "0 rows will be dropped from the combined title and article column\n"
     ]
    }
   ],
   "source": [
    "df['article_updated']=df['article'].combine_first(df['title'])\n",
    "df=df[['year','month','article_updated','section','publication']]\n",
    "print('{} rows will be dropped from the combined title and article column'.format(df['article_updated'].isnull().sum()))"
   ]
  },
  {
   "cell_type": "code",
   "execution_count": null,
   "metadata": {
    "colab": {
     "base_uri": "https://localhost:8080/",
     "height": 204
    },
    "id": "_Dl7oJAOUiDm",
    "outputId": "5c1dad80-5d23-4f69-8bb2-320671483155",
    "pycharm": {
     "name": "#%%\n"
    }
   },
   "outputs": [
    {
     "output_type": "execute_result",
     "data": {
      "text/plain": [
       "    year                                    article_updated        section  \\\n",
       "7   2018  If only every day could be like this. You can’...         Health   \n",
       "11  2019  (Reuters) - The success of Hudson’s Bay Co Exe...  Business News   \n",
       "22  2018  NEW YORK (Reuters) - Wells Fargo & Co (WFC.N) ...  Business News   \n",
       "24  2019  (Reuters) - Major automakers have announced a ...  Business News   \n",
       "27  2019  LONDON (Reuters) - Britain’s financial service...  Business News   \n",
       "\n",
       "   publication  \n",
       "7         Vice  \n",
       "11     Reuters  \n",
       "22     Reuters  \n",
       "24     Reuters  \n",
       "27     Reuters  "
      ],
      "text/html": [
       "\n",
       "  <div id=\"df-e2c85139-2664-4d14-8f1d-3707c3487c75\">\n",
       "    <div class=\"colab-df-container\">\n",
       "      <div>\n",
       "<style scoped>\n",
       "    .dataframe tbody tr th:only-of-type {\n",
       "        vertical-align: middle;\n",
       "    }\n",
       "\n",
       "    .dataframe tbody tr th {\n",
       "        vertical-align: top;\n",
       "    }\n",
       "\n",
       "    .dataframe thead th {\n",
       "        text-align: right;\n",
       "    }\n",
       "</style>\n",
       "<table border=\"1\" class=\"dataframe\">\n",
       "  <thead>\n",
       "    <tr style=\"text-align: right;\">\n",
       "      <th></th>\n",
       "      <th>year</th>\n",
       "      <th>article_updated</th>\n",
       "      <th>section</th>\n",
       "      <th>publication</th>\n",
       "    </tr>\n",
       "  </thead>\n",
       "  <tbody>\n",
       "    <tr>\n",
       "      <th>7</th>\n",
       "      <td>2018</td>\n",
       "      <td>If only every day could be like this. You can’...</td>\n",
       "      <td>Health</td>\n",
       "      <td>Vice</td>\n",
       "    </tr>\n",
       "    <tr>\n",
       "      <th>11</th>\n",
       "      <td>2019</td>\n",
       "      <td>(Reuters) - The success of Hudson’s Bay Co Exe...</td>\n",
       "      <td>Business News</td>\n",
       "      <td>Reuters</td>\n",
       "    </tr>\n",
       "    <tr>\n",
       "      <th>22</th>\n",
       "      <td>2018</td>\n",
       "      <td>NEW YORK (Reuters) - Wells Fargo &amp; Co (WFC.N) ...</td>\n",
       "      <td>Business News</td>\n",
       "      <td>Reuters</td>\n",
       "    </tr>\n",
       "    <tr>\n",
       "      <th>24</th>\n",
       "      <td>2019</td>\n",
       "      <td>(Reuters) - Major automakers have announced a ...</td>\n",
       "      <td>Business News</td>\n",
       "      <td>Reuters</td>\n",
       "    </tr>\n",
       "    <tr>\n",
       "      <th>27</th>\n",
       "      <td>2019</td>\n",
       "      <td>LONDON (Reuters) - Britain’s financial service...</td>\n",
       "      <td>Business News</td>\n",
       "      <td>Reuters</td>\n",
       "    </tr>\n",
       "  </tbody>\n",
       "</table>\n",
       "</div>\n",
       "      <button class=\"colab-df-convert\" onclick=\"convertToInteractive('df-e2c85139-2664-4d14-8f1d-3707c3487c75')\"\n",
       "              title=\"Convert this dataframe to an interactive table.\"\n",
       "              style=\"display:none;\">\n",
       "        \n",
       "  <svg xmlns=\"http://www.w3.org/2000/svg\" height=\"24px\"viewBox=\"0 0 24 24\"\n",
       "       width=\"24px\">\n",
       "    <path d=\"M0 0h24v24H0V0z\" fill=\"none\"/>\n",
       "    <path d=\"M18.56 5.44l.94 2.06.94-2.06 2.06-.94-2.06-.94-.94-2.06-.94 2.06-2.06.94zm-11 1L8.5 8.5l.94-2.06 2.06-.94-2.06-.94L8.5 2.5l-.94 2.06-2.06.94zm10 10l.94 2.06.94-2.06 2.06-.94-2.06-.94-.94-2.06-.94 2.06-2.06.94z\"/><path d=\"M17.41 7.96l-1.37-1.37c-.4-.4-.92-.59-1.43-.59-.52 0-1.04.2-1.43.59L10.3 9.45l-7.72 7.72c-.78.78-.78 2.05 0 2.83L4 21.41c.39.39.9.59 1.41.59.51 0 1.02-.2 1.41-.59l7.78-7.78 2.81-2.81c.8-.78.8-2.07 0-2.86zM5.41 20L4 18.59l7.72-7.72 1.47 1.35L5.41 20z\"/>\n",
       "  </svg>\n",
       "      </button>\n",
       "      \n",
       "  <style>\n",
       "    .colab-df-container {\n",
       "      display:flex;\n",
       "      flex-wrap:wrap;\n",
       "      gap: 12px;\n",
       "    }\n",
       "\n",
       "    .colab-df-convert {\n",
       "      background-color: #E8F0FE;\n",
       "      border: none;\n",
       "      border-radius: 50%;\n",
       "      cursor: pointer;\n",
       "      display: none;\n",
       "      fill: #1967D2;\n",
       "      height: 32px;\n",
       "      padding: 0 0 0 0;\n",
       "      width: 32px;\n",
       "    }\n",
       "\n",
       "    .colab-df-convert:hover {\n",
       "      background-color: #E2EBFA;\n",
       "      box-shadow: 0px 1px 2px rgba(60, 64, 67, 0.3), 0px 1px 3px 1px rgba(60, 64, 67, 0.15);\n",
       "      fill: #174EA6;\n",
       "    }\n",
       "\n",
       "    [theme=dark] .colab-df-convert {\n",
       "      background-color: #3B4455;\n",
       "      fill: #D2E3FC;\n",
       "    }\n",
       "\n",
       "    [theme=dark] .colab-df-convert:hover {\n",
       "      background-color: #434B5C;\n",
       "      box-shadow: 0px 1px 3px 1px rgba(0, 0, 0, 0.15);\n",
       "      filter: drop-shadow(0px 1px 2px rgba(0, 0, 0, 0.3));\n",
       "      fill: #FFFFFF;\n",
       "    }\n",
       "  </style>\n",
       "\n",
       "      <script>\n",
       "        const buttonEl =\n",
       "          document.querySelector('#df-e2c85139-2664-4d14-8f1d-3707c3487c75 button.colab-df-convert');\n",
       "        buttonEl.style.display =\n",
       "          google.colab.kernel.accessAllowed ? 'block' : 'none';\n",
       "\n",
       "        async function convertToInteractive(key) {\n",
       "          const element = document.querySelector('#df-e2c85139-2664-4d14-8f1d-3707c3487c75');\n",
       "          const dataTable =\n",
       "            await google.colab.kernel.invokeFunction('convertToInteractive',\n",
       "                                                     [key], {});\n",
       "          if (!dataTable) return;\n",
       "\n",
       "          const docLinkHtml = 'Like what you see? Visit the ' +\n",
       "            '<a target=\"_blank\" href=https://colab.research.google.com/notebooks/data_table.ipynb>data table notebook</a>'\n",
       "            + ' to learn more about interactive tables.';\n",
       "          element.innerHTML = '';\n",
       "          dataTable['output_type'] = 'display_data';\n",
       "          await google.colab.output.renderOutput(dataTable, element);\n",
       "          const docLink = document.createElement('div');\n",
       "          docLink.innerHTML = docLinkHtml;\n",
       "          element.appendChild(docLink);\n",
       "        }\n",
       "      </script>\n",
       "    </div>\n",
       "  </div>\n",
       "  "
      ]
     },
     "metadata": {},
     "execution_count": 109
    }
   ],
   "source": [
    "#Double check dataframe\n",
    "df.head()"
   ]
  },
  {
   "cell_type": "code",
   "execution_count": 14,
   "metadata": {
    "colab": {
     "base_uri": "https://localhost:8080/"
    },
    "id": "6y1BcxZ1YaWa",
    "outputId": "644a721f-cde0-4e76-d592-b362b7823439",
    "pycharm": {
     "name": "#%%\n"
    }
   },
   "outputs": [
    {
     "output_type": "stream",
     "name": "stdout",
     "text": [
      "We have 0 publication cells that are empty\n",
      "We have 0 article cells that are empty\n"
     ]
    }
   ],
   "source": [
    "print('We have {} publication cells that are empty'.format(df['publication'].isnull().sum()))\n",
    "print('We have {} article cells that are empty'.format(df['article_updated'].isnull().sum()))"
   ]
  },
  {
   "cell_type": "code",
   "execution_count": 15,
   "metadata": {
    "id": "BWigPq9vbPRX",
    "pycharm": {
     "name": "#%%\n"
    }
   },
   "outputs": [],
   "source": [
    "def clean(text):\n",
    "    # standalone sequences of specials, matches &# but not #cool\n",
    "    text = re.sub(r'(?:^|\\s)[&#<>{}\\[\\]+|\\\\:-]{1,}(?:\\s|$)', ' ', text)\n",
    "    # standalone sequences of hyphens like --- or ==”\n",
    "    text = re.sub(r'(?:^|\\s)[\\-=\\+]{2,}(?:\\s|$)', ' ', text)\n",
    "    # sequences of white spaces\n",
    "    text = re.sub(r'\\s+', ' ', text)\n",
    "    \n",
    "    \n",
    "    return text.strip()\n",
    "def decontracted(phrase):\n",
    "    # specific\n",
    "    phrase = re.sub(r\"won\\'t\", \"will not\", phrase)\n",
    "    phrase = re.sub(r\"can\\'t\", \"can not\", phrase)\n",
    "\n",
    "    # general\n",
    "    phrase = re.sub(r\"n\\'t\", \" not\", phrase)\n",
    "    phrase = re.sub(r\"\\'re\", \" are\", phrase)\n",
    "    phrase = re.sub(r\"\\'s\", \" is\", phrase)\n",
    "    phrase = re.sub(r\"\\'d\", \" would\", phrase)\n",
    "    phrase = re.sub(r\"\\'ll\", \" will\", phrase)\n",
    "    phrase = re.sub(r\"\\'t\", \" not\", phrase)\n",
    "    phrase = re.sub(r\"\\'ve\", \" have\", phrase)\n",
    "    phrase = re.sub(r\"\\'m\", \" am\", phrase)\n",
    "    return phrase\n",
    "def takeCharsUntilNotRoman(w):\n",
    "    result = []\n",
    "    for c in w:\n",
    "        if ord(c) <128 or (ord(c) >= 65313 and ord(c) <= 65339) or (ord(c) >= 65345 and ord(c) <= 65371):\n",
    "            result.append(c)\n",
    "        else:\n",
    "            break\n",
    "    # Assume a word needs to be at least 2 chars long\n",
    "    if len(result) > 1:\n",
    "        return ''.join(result)\n",
    "    return ''\n",
    "\n",
    "\n"
   ]
  },
  {
   "cell_type": "code",
   "execution_count": 16,
   "metadata": {
    "id": "S-ZkyvvdbZhF",
    "pycharm": {
     "name": "#%%\n"
    }
   },
   "outputs": [],
   "source": [
    "df[\"article_updated\"]=df[\"article_updated\"].apply(clean)\n",
    "df[\"article_updated\"]=df[\"article_updated\"].apply(decontracted)\n",
    "df[\"article_updated\"]=df[\"article_updated\"].apply(takeCharsUntilNotRoman)\n",
    "df[\"article_updated\"]=df[\"article_updated\"].apply(contractions.fix)"
   ]
  },
  {
   "cell_type": "code",
   "execution_count": 17,
   "metadata": {
    "colab": {
     "base_uri": "https://localhost:8080/"
    },
    "id": "vuYIUsOZDkNd",
    "outputId": "ec9e1edb-ad28-4e59-a1e0-eb1709dd88c3",
    "pycharm": {
     "name": "#%%\n"
    }
   },
   "outputs": [
    {
     "output_type": "stream",
     "name": "stdout",
     "text": [
      "Mean length of document: 816.62\n",
      "Total number of documents in the corpus: 85902\n"
     ]
    }
   ],
   "source": [
    "print(\"Mean length of document: {0:.2f}\\nTotal number of documents in the corpus: {1:}\".format(df['article_updated'].str.len().mean(),len(df['article_updated'])))"
   ]
  },
  {
   "cell_type": "code",
   "execution_count": 18,
   "metadata": {
    "colab": {
     "base_uri": "https://localhost:8080/"
    },
    "id": "G56wykXNHl_q",
    "outputId": "222e5a83-30ee-4cb7-eab4-3c9c69268c50",
    "pycharm": {
     "name": "#%%\n"
    }
   },
   "outputs": [
    {
     "output_type": "stream",
     "name": "stdout",
     "text": [
      "29.58% of the documents are greater than mean length document length\n"
     ]
    }
   ],
   "source": [
    "meanlength=df['article_updated'].str.len().mean()\n",
    "print(\"{0:.2f}% of the documents are greater than mean length document length\".format((np.sum(df['article_updated'].str.len()>meanlength)/len(df['article_updated']))*100))"
   ]
  },
  {
   "cell_type": "code",
   "execution_count": null,
   "metadata": {
    "colab": {
     "base_uri": "https://localhost:8080/"
    },
    "id": "ySKMLSI0b434",
    "outputId": "12bf3894-a14f-4f8b-a846-3fb7643f8523",
    "pycharm": {
     "name": "#%%\n"
    }
   },
   "outputs": [
    {
     "output_type": "stream",
     "name": "stdout",
     "text": [
      "Impurity:  0.00011102961787308563\n"
     ]
    }
   ],
   "source": [
    "#This is just a process to check the impurity of each document i.e. documents containing bad text (bad text length from document/total docuemnt length ). Only relevant for EDA\n",
    "imp=[]\n",
    "RE_SUSPICIOUS=re.compile(r'[&#<>{}\\[\\]\\\\]')\n",
    "def impurity(text,min_len=10):\n",
    "  # returns bad text\n",
    "  if text==None or len(text)<min_len:\n",
    "    return 0\n",
    "  else:\n",
    "    return len(RE_SUSPICIOUS.findall(text))/len(text)\n",
    "\n",
    "[imp.append(impurity(df[\"article_updated\"][i])) for i,text in enumerate(df[\"article_updated\"])]\n",
    "  \n",
    "print('Impurity: ',np.mean(imp))"
   ]
  },
  {
   "cell_type": "code",
   "execution_count": null,
   "metadata": {
    "colab": {
     "base_uri": "https://localhost:8080/",
     "height": 197
    },
    "id": "gkNsQLCli-z4",
    "outputId": "ab16fbce-edff-4027-db14-5dac4f3da9c3",
    "pycharm": {
     "name": "#%%\n"
    }
   },
   "outputs": [
    {
     "output_type": "display_data",
     "data": {
      "text/plain": [
       "<Figure size 432x288 with 1 Axes>"
      ],
      "image/png": "[encoded data removed]"
     },
     "metadata": {
      "needs_background": "light"
     }
    }
   ],
   "source": [
    "#Checking on prominent words in the corpus. EDA relevant\n",
    "from wordcloud import WordCloud\n",
    "import matplotlib.pyplot as plt\n",
    "text = df['article_updated'].values \n",
    "\n",
    "wordcloud = WordCloud().generate(str(text))\n",
    "\n",
    "plt.imshow(wordcloud)\n",
    "plt.axis(\"off\")\n",
    "plt.show()"
   ]
  },
  {
   "cell_type": "code",
   "execution_count": null,
   "metadata": {
    "id": "ESz5rh4sbWCY",
    "pycharm": {
     "name": "#%%\n"
    }
   },
   "outputs": [],
   "source": [
    "# df.to_csv(r'/content/drive/My Drive/Datasets/Capstone/Allthenews-TM/subfolder/news-30k-postEDA.csv')#checkpoint"
   ]
  },
  {
   "cell_type": "markdown",
   "source": [
    "# HLDA Tomo"
   ],
   "metadata": {
    "id": "5jxBFxfy3KvY",
    "pycharm": {
     "name": "#%% md\n"
    }
   }
  },
  {
   "cell_type": "code",
   "source": [
    "#@title\n",
    "#add redundant words to stop words\n",
    "en_stop.add(\"said\")\n",
    "en_stop.add(\"reuters\")\n",
    "en_stop.add(\"london\")\n",
    "en_stop.add(\"new york\")\n",
    "en_stop.add('reuters')\n",
    "en_stop.add('say')\n",
    "en_stop.add('like')\n",
    "en_stop.add('thing')\n",
    "en_stop.add('york')\n",
    "en_stop.add('new')"
   ],
   "metadata": {
    "id": "V9YIXh4hJmjv",
    "pycharm": {
     "name": "#%%\n"
    }
   },
   "execution_count": 19,
   "outputs": []
  },
  {
   "cell_type": "code",
   "execution_count": 20,
   "metadata": {
    "id": "t6iD-tAWJaFW",
    "pycharm": {
     "name": "#%%\n"
    }
   },
   "outputs": [],
   "source": [
    "def preprocess(docs,col,phrasecount,filter_extremes=True):\n",
    "    # Split the documents into tokens.\n",
    "  tokenizer = RegexpTokenizer(r'\\w+')\n",
    "  for idx in range(len(col)):\n",
    "      docs[idx] = docs[idx].lower()  # Convert to lowercase.\n",
    "      docs[idx] = tokenizer.tokenize(docs[idx])  # Split into words.\n",
    "      # print(docs[idx])\n",
    "  # Remove numbers, but not words that contain numbers.\n",
    "  docs = [[token for token in doc if not token.isnumeric()] for doc in docs]\n",
    "  # print(docs)\n",
    "  # Remove words that are only one character.\n",
    "  docs = [[token for token in doc if len(token) > 1] for doc in docs]\n",
    "  # print(docs)\n",
    "  docs = [[token for token in doc if token not in en_stop] for doc in docs]\n",
    "  # print(docs)\n",
    "  nltk.download('wordnet')\n",
    "  lemmatizer = WordNetLemmatizer()  \n",
    "  docs = [[lemmatizer.lemmatize(token) for token in doc] for doc in docs]\n",
    "  # print(docs)\n",
    "  # Add bigrams and trigrams to docs (only ones that appear 20 times or more).\n",
    "  bigram = Phrases(docs, min_count=phrasecount)\n",
    "  for idx in range(len(docs)):\n",
    "      for token in bigram[docs[idx]]:\n",
    "          if '_' in token:\n",
    "              # Token is a bigram, add to document.\n",
    "              docs[idx].append(token)\n",
    "  # Create a dictionary representation of the documents.\n",
    "  dictionary = Dictionary(docs)\n",
    "\n",
    "  # Filter out words that occur less than 20 documents, or more than 50% of the documents.\n",
    "  if filter_extremes:\n",
    "    dictionary.filter_extremes(no_below=phrasecount,no_above=0.5)\n",
    "  corpus = [dictionary.doc2bow(doc) for doc in docs]\n",
    "  print('-----------------------------------------')\n",
    "  print('Number of unique tokens: %d' % len(dictionary))\n",
    "  print('Number of documents: %d' % len(corpus))\n",
    "  return dictionary,corpus\n",
    "\n",
    "#The below function just gets the top 5 word for each topic after training has been done on LDA  \n",
    "def display_topics_gensim(model,topper=5):\n",
    "    for topic in range(0, model.num_topics):\n",
    "        print(\"\\nTopic %02d\" % topic)\n",
    "        for (word, prob) in model.show_topic(topic, topn=topper):\n",
    "            print(\"  %s (%2.2f)\" % (word, prob))"
   ]
  },
  {
   "cell_type": "code",
   "source": [
    "from gensim.models.ldamulticore import LdaMulticore#This is a faster model\n",
    "\n",
    "dictionary,bow_gensim_para=preprocess(list(df['article_updated']),df['article_updated'],20) #Get the dictionary and corpus\n",
    "lda_para_model_n = []\n",
    "temp = dictionary[0]  # This is only to \"load\" the dictionary.\n",
    "dict_gensim_para = dictionary.id2token\n",
    "for n in tqdm(range(2, 20)):\n",
    "  lda_model = LdaMulticore(corpus=bow_gensim_para, id2word=dict_gensim_para,\n",
    "                              chunksize=2000, eta='auto', iterations=400,\n",
    "                              num_topics=n, passes=5, eval_every=None,\n",
    "                              random_state=42)\n",
    "  lda_coherence = CoherenceModel(model=lda_model, corpus=bow_gensim_para, coherence='u_mass')#this runs the coherence model to get coherence per loop\n",
    "  lda_para_model_n.append((n, lda_model, lda_coherence.get_coherence()))#we then append it to to a list\n",
    "pd.DataFrame(lda_para_model_n, columns=[\"n\", \"model\", \\\n",
    "    \"coherence\"]).set_index(\"n\")[[\"coherence\"]].plot(figsize=(16,9))#plot to see the trend over training"
   ],
   "metadata": {
    "colab": {
     "base_uri": "https://localhost:8080/",
     "height": 704
    },
    "id": "2ZCgL2aDkgik",
    "outputId": "c7945cb0-8834-4f4d-954a-f73edc86dcee",
    "pycharm": {
     "name": "#%%\n"
    }
   },
   "execution_count": null,
   "outputs": [
    {
     "output_type": "stream",
     "name": "stdout",
     "text": [
      "[nltk_data] Downloading package wordnet to /root/nltk_data...\n",
      "[nltk_data]   Package wordnet is already up-to-date!\n"
     ]
    },
    {
     "output_type": "stream",
     "name": "stderr",
     "text": [
      "/usr/local/lib/python3.7/dist-packages/gensim/models/phrases.py:598: UserWarning: For a faster implementation, use the gensim.models.phrases.Phraser class\n",
      "  warnings.warn(\"For a faster implementation, use the gensim.models.phrases.Phraser class\")\n"
     ]
    },
    {
     "output_type": "stream",
     "name": "stdout",
     "text": [
      "-----------------------------------------\n",
      "Number of unique tokens: 19186\n",
      "Number of documents: 75394\n"
     ]
    },
    {
     "output_type": "stream",
     "name": "stderr",
     "text": [
      "100%|██████████| 18/18 [52:28<00:00, 174.89s/it]\n"
     ]
    },
    {
     "output_type": "execute_result",
     "data": {
      "text/plain": [
       "<matplotlib.axes._subplots.AxesSubplot at 0x7fdcc9e318d0>"
      ]
     },
     "metadata": {},
     "execution_count": 118
    },
    {
     "output_type": "display_data",
     "data": {
      "text/plain": [
       "<Figure size 1152x648 with 1 Axes>"
      ],
      "image/png": "[encoded data removed]"
     },
     "metadata": {
      "needs_background": "light"
     }
    }
   ]
  },
  {
   "cell_type": "code",
   "source": [
    "df_coherence=pd.DataFrame(lda_para_model_n, columns=[\"n\", \"model\", \"coherence\"]).set_index(\"n\")\n",
    "# new_num_topics=df_coherence[[df_coherence['coherence']==df_coherence['coherence'].max()]['n']]"
   ],
   "metadata": {
    "id": "RO29pyUjmbXE",
    "pycharm": {
     "name": "#%%\n"
    }
   },
   "execution_count": null,
   "outputs": []
  },
  {
   "cell_type": "code",
   "source": [
    "dictionary.save('/content/drive/My Drive/fourthbrain/capstone/subsample2/dict')#storing dictionary"
   ],
   "metadata": {
    "id": "7tdfEZX3JScc",
    "pycharm": {
     "name": "#%%\n"
    }
   },
   "execution_count": null,
   "outputs": []
  },
  {
   "cell_type": "code",
   "source": [
    "import json#corpus is not needed for inference but saving if needed in future\n",
    "with open(\"/content/drive/My Drive/fourthbrain/capstone/subsample2/corp.json\", 'w') as f:\n",
    "    json.dump(corpus, f, indent=2) "
   ],
   "metadata": {
    "id": "WQk6C-jgKIu6",
    "pycharm": {
     "name": "#%%\n"
    }
   },
   "execution_count": 23,
   "outputs": []
  },
  {
   "cell_type": "code",
   "source": [
    "# Train LDA model.\n",
    "dictionary,corpus=preprocess(list(df['article_updated']),df['article_updated'],20)\n",
    "\n",
    "# Set training parameters.\n",
    "num_topics = 4\n",
    "chunksize = 2000\n",
    "passes = 10\n",
    "iterations = 5000\n",
    "eval_every = None  # Don't evaluate model perplexity, takes too much time.\n",
    "# Make a index to word dictionary.\n",
    "temp = dictionary[0]  # This is only to \"load\" the dictionary.\n",
    "id2word = dictionary.id2token\n",
    "ldamodel = LdaMulticore(corpus=corpus,id2word=id2word, chunksize=chunksize, iterations=iterations, num_topics=num_topics, passes=passes, eval_every=eval_every)"
   ],
   "metadata": {
    "id": "ooEJcLGulgux",
    "pycharm": {
     "name": "#%%\n"
    }
   },
   "execution_count": 25,
   "outputs": []
  },
  {
   "cell_type": "code",
   "source": [
    "display_topics_gensim(ldamodel,15)"
   ],
   "metadata": {
    "colab": {
     "base_uri": "https://localhost:8080/"
    },
    "id": "VBsC1AX64ma5",
    "outputId": "df8fffd5-a75f-491c-90a7-5bf0fa655b9e",
    "pycharm": {
     "name": "#%%\n"
    }
   },
   "execution_count": 26,
   "outputs": [
    {
     "output_type": "stream",
     "name": "stdout",
     "text": [
      "\n",
      "Topic 00\n",
      "  company (0.02)\n",
      "  year (0.01)\n",
      "  apple (0.01)\n",
      "  billion (0.01)\n",
      "  percent (0.01)\n",
      "  million (0.01)\n",
      "  amazon (0.01)\n",
      "  market (0.01)\n",
      "  facebook (0.01)\n",
      "  business (0.01)\n",
      "  share (0.01)\n",
      "  service (0.01)\n",
      "  cnbc (0.00)\n",
      "  ceo (0.00)\n",
      "  quarter (0.00)\n",
      "\n",
      "Topic 01\n",
      "  health (0.01)\n",
      "  people (0.01)\n",
      "  state (0.01)\n",
      "  year (0.01)\n",
      "  tax (0.00)\n",
      "  care (0.00)\n",
      "  trump (0.00)\n",
      "  drug (0.00)\n",
      "  study (0.00)\n",
      "  percent (0.00)\n",
      "  according (0.00)\n",
      "  plan (0.00)\n",
      "  patient (0.00)\n",
      "  american (0.00)\n",
      "  case (0.00)\n",
      "\n",
      "Topic 02\n",
      "  million (0.03)\n",
      "  company (0.03)\n",
      "  source (0.02)\n",
      "  coverage (0.02)\n",
      "  text (0.02)\n",
      "  source_text (0.02)\n",
      "  say (0.02)\n",
      "  ltd (0.01)\n",
      "  company_coverage (0.01)\n",
      "  co (0.01)\n",
      "  newsroom (0.01)\n",
      "  chinese (0.01)\n",
      "  share (0.01)\n",
      "  year (0.01)\n",
      "  eikon (0.01)\n",
      "\n",
      "Topic 03\n",
      "  time (0.00)\n",
      "  year (0.00)\n",
      "  people (0.00)\n",
      "  user (0.00)\n",
      "  video (0.00)\n",
      "  facebook (0.00)\n",
      "  game (0.00)\n",
      "  work (0.00)\n",
      "  film (0.00)\n",
      "  way (0.00)\n",
      "  world (0.00)\n",
      "  day (0.00)\n",
      "  google (0.00)\n",
      "  company (0.00)\n",
      "  feature (0.00)\n"
     ]
    }
   ]
  },
  {
   "cell_type": "code",
   "source": [
    "ldamodel.save('/content/drive/My Drive/fourthbrain/capstone/subsample2/lda/test-lda')#checkpoint--->save the lda model"
   ],
   "metadata": {
    "id": "qFb3zOqdnhhc",
    "pycharm": {
     "name": "#%%\n"
    }
   },
   "execution_count": 27,
   "outputs": []
  },
  {
   "cell_type": "code",
   "source": [
    "#Get topic for each document in corpus\n",
    "def format_topics_sentences(ldamodel=ldamodel, corpus=corpus, texts=df['article_updated']):\n",
    "    # Init output\n",
    "    sent_topics_df = pd.DataFrame()\n",
    "    counter=0\n",
    "    counterinsiderow=0\n",
    "    # Get main topic in each document\n",
    "    for i, row in enumerate(ldamodel[corpus]):\n",
    "        counter+=1\n",
    "        \n",
    "        row = sorted(row, key=lambda x: (x[1]), reverse=True)\n",
    "        # print(row)\n",
    "        # Get the Dominant topic, Perc Contribution and Keywords for each document\n",
    "        for j, (topic_num, prop_topic) in enumerate(row):\n",
    "            # print(topic_num)\n",
    "            # print(prop_topic)\n",
    "            \n",
    "            if j == 0:  # => dominant topic\n",
    "                counterinsiderow+=1\n",
    "                wp = ldamodel.show_topic(topic_num)\n",
    "                # print(wp)\n",
    "                topic_keywords = \", \".join([word for word, prop in wp])\n",
    "                sent_topics_df = sent_topics_df.append(pd.Series([int(topic_num), round(prop_topic,4), topic_keywords]), ignore_index=True)\n",
    "            else:\n",
    "                break\n",
    "            \n",
    "    sent_topics_df.columns = ['Dominant_Topic', 'Perc_Contribution', 'Topic_Keywords']\n",
    "\n",
    "    # Add original text to the end of the output\n",
    "    return(sent_topics_df)\n",
    "\n",
    "\n",
    "df_topic_sents_keywords = format_topics_sentences(ldamodel=ldamodel, corpus=corpus, texts=df['article_updated'])\n"
   ],
   "metadata": {
    "id": "abG9r3u-Z5yl",
    "pycharm": {
     "name": "#%%\n"
    }
   },
   "execution_count": 28,
   "outputs": []
  },
  {
   "cell_type": "code",
   "source": [
    "sum(df_topic_sents_keywords['Dominant_Topic'].isna())"
   ],
   "metadata": {
    "colab": {
     "base_uri": "https://localhost:8080/"
    },
    "id": "NOOXJ_WT44Gl",
    "outputId": "afc89b89-c03a-41d3-cb9f-29bad1ea7d65",
    "pycharm": {
     "name": "#%%\n"
    }
   },
   "execution_count": 29,
   "outputs": [
    {
     "output_type": "execute_result",
     "data": {
      "text/plain": [
       "0"
      ]
     },
     "metadata": {},
     "execution_count": 29
    }
   ]
  },
  {
   "cell_type": "code",
   "source": [
    "df.reset_index(drop=True,inplace=True)#reset index since we filtered the corpus for certain sections"
   ],
   "metadata": {
    "id": "teI3OMo05xtU",
    "pycharm": {
     "name": "#%%\n"
    }
   },
   "execution_count": 30,
   "outputs": []
  },
  {
   "cell_type": "code",
   "source": [
    "contents = pd.Series(df['article_updated'])\n",
    "df_topic_sents_keywords_new = pd.concat([df_topic_sents_keywords, contents], axis=1)\n",
    "df_topic_sents_keywords_new.shape\n",
    "df_dominant_topic = df_topic_sents_keywords_new.reset_index()\n",
    "df_dominant_topic.columns = ['Document_No', 'Dominant_Topic', 'Topic_Perc_Contrib', 'Keywords', 'Text']"
   ],
   "metadata": {
    "id": "SCmRtfcD3aZm",
    "pycharm": {
     "name": "#%%\n"
    }
   },
   "execution_count": 31,
   "outputs": []
  },
  {
   "cell_type": "code",
   "source": [
    "sum(df_dominant_topic['Text'].isna())"
   ],
   "metadata": {
    "colab": {
     "base_uri": "https://localhost:8080/"
    },
    "id": "5swkCG7qUdfF",
    "outputId": "868aa91e-0e15-42f5-f43c-3ac55cdd7cf6",
    "pycharm": {
     "name": "#%%\n"
    }
   },
   "execution_count": 33,
   "outputs": [
    {
     "output_type": "execute_result",
     "data": {
      "text/plain": [
       "0"
      ]
     },
     "metadata": {},
     "execution_count": 33
    }
   ]
  },
  {
   "cell_type": "code",
   "source": [
    "df_dominant_topic['Dominant_Topic'].value_counts()#check the frequency per topic"
   ],
   "metadata": {
    "colab": {
     "base_uri": "https://localhost:8080/"
    },
    "id": "LqwSqZm4_pno",
    "outputId": "17207f33-72a8-4a59-f423-16644d9e16be",
    "pycharm": {
     "name": "#%%\n"
    }
   },
   "execution_count": 34,
   "outputs": [
    {
     "output_type": "execute_result",
     "data": {
      "text/plain": [
       "3.0    37877\n",
       "1.0    17834\n",
       "0.0    15123\n",
       "2.0    15068\n",
       "Name: Dominant_Topic, dtype: int64"
      ]
     },
     "metadata": {},
     "execution_count": 34
    }
   ]
  },
  {
   "cell_type": "code",
   "source": [
    "df_dominant_topic.to_csv(r'/content/drive/My Drive/fourthbrain/capstone/subsample2/df-dom.csv')#save df as csv"
   ],
   "metadata": {
    "id": "MLCb3M6-pDOJ",
    "pycharm": {
     "name": "#%%\n"
    }
   },
   "execution_count": 35,
   "outputs": []
  },
  {
   "cell_type": "code",
   "source": [
    "#function to get hierarchy for each topic corpus with tomotopy hlda\n",
    "def hlda_example(save_path,corp,corpus,size):\n",
    "    from nltk.stem.porter import PorterStemmer\n",
    "    from nltk.corpus import stopwords\n",
    "    cps=corpus\n",
    "    np.random.seed(42)\n",
    "    ridcs = np.random.permutation(len(cps))\n",
    "    train_idcs = ridcs[:size]\n",
    "    test_idcs = ridcs[size:]\n",
    "\n",
    "    test_cps = cps[test_idcs]\n",
    "    train_cps = cps[train_idcs]\n",
    "    mdl = tp.HLDAModel(tw=tp.TermWeight.ONE, min_df=5, depth=3,  corpus=train_cps)\n",
    "    mdl.train(0)\n",
    "    print('Num docs:', len(mdl.docs), ', Vocab size:', len(mdl.used_vocabs), ', Num words:', mdl.num_words)\n",
    "    print('Removed top words:', mdl.removed_top_words)\n",
    "    print('Training...', file=sys.stderr, flush=True)\n",
    "    for _ in range(0, 100, 10):\n",
    "        mdl.train(7)\n",
    "        mdl.train(3, freeze_topics=True)\n",
    "        print('Iteration: {:05}\\tll per word: {:.5f}\\tNum. of topics: {}'.format(mdl.global_step, mdl.ll_per_word, mdl.live_k))\n",
    "\n",
    "    for _ in range(0, 100, 10):\n",
    "        mdl.train(10, freeze_topics=True)\n",
    "        print('Iteration: {:05}\\tll per word: {:.5f}\\tNum. of topics: {}'.format(mdl.global_step, mdl.ll_per_word, mdl.live_k))\n",
    "\n",
    "    mdl.summary()\n",
    "    print('Saving...', file=sys.stderr, flush=True)\n",
    "    mdl.save(save_path, True)\n",
    "    corpus_tomo.save(corp)\n",
    "\n",
    "    test_result_cps, ll = mdl.infer(test_cps)\n",
    "    for doc in test_result_cps:\n",
    "        print(doc.path, doc.get_words(top_n=10))\n",
    "    return mdl\n"
   ],
   "metadata": {
    "id": "_kSfh1sYpnvg",
    "pycharm": {
     "name": "#%%\n"
    }
   },
   "execution_count": 52,
   "outputs": []
  },
  {
   "cell_type": "code",
   "source": [
    "#automate the process of running hlda on multiple topics generated by the lda. At the end of training each hlda model, the model is saved.\n",
    "for i in np.unique(df_dominant_topic['Dominant_Topic']).astype(int):#for each unique topic in lda\n",
    "  df_loop=df_dominant_topic.loc[(df_dominant_topic['Dominant_Topic']==i)] #get the documents with the loop topic\n",
    "  nltk.download('wordnet')\n",
    "  lemmatizer = WordNetLemmatizer()  \n",
    "\n",
    "  pat = re.compile('\\w+')\n",
    "  #create corpus function \n",
    "  corpus_tomo = tp.utils.Corpus(\n",
    "          tokenizer=tp.utils.SimpleTokenizer(stemmer=None,lowercase=True), \n",
    "          stopwords=lambda x: len(x) <= 2 or x in en_stop or x.isnumeric() or not pat.match(x) or not lemmatizer.lemmatize(x)\n",
    "      )\n",
    "  newsgroups_train = df_loop['Text']\n",
    "  corpus_tomo.process(d.lower() for d in newsgroups_train)#send the loop topic documents through the corpus utility\n",
    "  hlda_example('/content/drive/My Drive/fourthbrain/capstone/subsample2/test-hlda'+str(i)+'.tmm','/content/drive/My Drive/fourthbrain/capstone/subsample2/test-corpus'+str(i)+'.cached.cps',corpus_tomo,df_loop.shape[0]-5)#store it in the path mentioned. the shape-5 is just to have some testing documents for the model, else it would error out.\n"
   ],
   "metadata": {
    "colab": {
     "base_uri": "https://localhost:8080/"
    },
    "id": "qYi98dwMP6B3",
    "outputId": "208ff9b0-c06a-41b3-a5a3-30d3e0aa92cb",
    "pycharm": {
     "name": "#%%\n"
    }
   },
   "execution_count": null,
   "outputs": [
    {
     "output_type": "stream",
     "name": "stdout",
     "text": [
      "[nltk_data] Downloading package wordnet to /root/nltk_data...\n",
      "[nltk_data]   Package wordnet is already up-to-date!\n"
     ]
    },
    {
     "output_type": "stream",
     "name": "stderr",
     "text": [
      "Training...\n"
     ]
    },
    {
     "output_type": "stream",
     "name": "stdout",
     "text": [
      "Num docs: 14043 , Vocab size: 14844 , Num words: 1537411\n",
      "Removed top words: []\n",
      "Iteration: 00010\tll per word: -inf\tNum. of topics: 150\n",
      "Iteration: 00020\tll per word: -inf\tNum. of topics: 261\n",
      "Iteration: 00030\tll per word: -inf\tNum. of topics: 332\n",
      "Iteration: 00040\tll per word: -inf\tNum. of topics: 377\n",
      "Iteration: 00050\tll per word: -inf\tNum. of topics: 413\n",
      "Iteration: 00060\tll per word: -inf\tNum. of topics: 444\n",
      "Iteration: 00070\tll per word: -inf\tNum. of topics: 468\n",
      "Iteration: 00080\tll per word: -inf\tNum. of topics: 483\n",
      "Iteration: 00090\tll per word: -inf\tNum. of topics: 499\n",
      "Iteration: 00100\tll per word: -inf\tNum. of topics: 514\n",
      "Iteration: 00110\tll per word: -inf\tNum. of topics: 501\n",
      "Iteration: 00120\tll per word: -inf\tNum. of topics: 495\n",
      "Iteration: 00130\tll per word: -inf\tNum. of topics: 492\n",
      "Iteration: 00140\tll per word: -inf\tNum. of topics: 492\n",
      "Iteration: 00150\tll per word: -inf\tNum. of topics: 491\n",
      "Iteration: 00160\tll per word: -inf\tNum. of topics: 491\n",
      "Iteration: 00170\tll per word: -inf\tNum. of topics: 491\n",
      "Iteration: 00180\tll per word: -inf\tNum. of topics: 490\n",
      "Iteration: 00190\tll per word: -inf\tNum. of topics: 490\n",
      "Iteration: 00200\tll per word: -inf\tNum. of topics: 490\n",
      "<Basic Info>\n",
      "| HLDAModel (current version: 0.12.2)\n",
      "| 14043 docs, 1537411 words\n",
      "| Total Vocabs: 46890, Used Vocabs: 14844\n",
      "| Entropy of words: 8.07310\n",
      "| Entropy of term-weighted words: 8.07310\n",
      "| Removed Vocabs: <NA>\n",
      "|\n",
      "<Training Info>\n",
      "| Iterations: 200, Burn-in steps: 0\n",
      "| Optimization Interval: 10\n",
      "| Log-likelihood per word: -inf\n",
      "|\n",
      "<Initial Parameters>\n",
      "| tw: TermWeight.ONE\n",
      "| min_cf: 0 (minimum collection frequency of words)\n",
      "| min_df: 5 (minimum document frequency of words)\n",
      "| rm_top: 0 (the number of top words to be removed)\n",
      "| depth: 3 (the maximum depth level of hierarchy between 2 ~ 32767)\n",
      "| alpha: [0.1] (hyperparameter of Dirichlet distribution for document-depth level, given as a single `float` in case of symmetric prior and as a list with length `depth` of `float` in case of asymmetric prior.)\n",
      "| eta: 0.01 (hyperparameter of Dirichlet distribution for topic-word)\n",
      "| gamma: 0.1 (concentration coeficient of Dirichlet Process)\n",
      "| seed: 3267431510 (random seed)\n",
      "| trained in version 0.12.2\n",
      "|\n",
      "<Parameters>\n",
      "| alpha (Dirichlet prior on the per-document depth level distributions)\n",
      "|  [1.5141513  0.67434347 1.5237606 ]\n",
      "| eta (Dirichlet prior on the per-topic word distribution)\n",
      "|  0.01\n",
      "| gamma (concentration coeficient of Dirichlet Process)\n",
      "|  0.1\n",
      "| Number of Topics: 490\n",
      "|\n",
      "<Topics>\n",
      "| #0 (667949, 13910) : company companies according people technology\n",
      "|   #8 (293790, 12748) : percent company year billion revenue\n",
      "|     #16 (6687, 224) : snap amazon tech company companies\n",
      "|     #17 (120598, 2697) : facebook google amazon apple data\n",
      "|     #19 (14076, 377) : apple iphone samsung iphones smartphone\n",
      "|     #20 (718, 14) : according car warranty year consumers\n",
      "|     #21 (1906, 25) : goldman bank 1mdb malaysian sachs\n",
      "|     #22 (3543, 69) : equifax credit breach data consumers\n",
      "|     #24 (1416, 48) : cryptocurrency bitcoin exchange exchanges cryptocurrencies\n",
      "|     #25 (626, 11) : lending elevate online fees financial\n",
      "|     #26 (1625, 72) : newspaper reports italy accuracy vouch\n",
      "|     #27 (1028, 21) : credit consumers interest scores score\n",
      "|     #30 (488, 10) : amazon oracle database software day\n",
      "|     #31 (1169, 21) : facebook ftc privacy settlement zuckerberg\n",
      "|     #36 (1148, 61) : euros million reporting editing profit\n",
      "|     #37 (833, 11) : gun fund funds stocks jana\n",
      "|     #38 (3025, 34) : dell vmware deal stock private\n",
      "|     #39 (3405, 161) : streaming service available month options\n",
      "|     #49 (2435, 165) : company ceo executive chief says\n",
      "|     #50 (2758, 64) : samsung note galaxy recall phones\n",
      "|     #51 (322, 5) : uber driver kalanick video drivers\n",
      "|     #53 (2513, 84) : uber lyft ride-hailing drivers company\n",
      "|     #54 (2728, 39) : warner time deal merger cigna\n",
      "|     #55 (1006, 17) : amazon city headquarters cities mayor\n",
      "|     #58 (1416, 40) : apple fitbit health watch people\n",
      "|     #59 (451, 12) : oil global debt corporate markets\n",
      "|     #62 (679, 23) : disney iger million pay ceo\n",
      "|     #63 (552, 14) : drone drones camera china delivery\n",
      "|     #64 (1574, 58) : drug health amazon prices pharmacy\n",
      "|     #65 (1338, 25) : google company uber diversity employees\n",
      "|     #66 (1828, 26) : tesla musk sec company tripp\n",
      "|     #67 (1784, 29) : cbs moonves viacom company redstone\n",
      "|     #68 (7729, 133) : qualcomm apple chips iphone huawei\n",
      "|     #70 (753, 23) : amazon air freight shipping planes\n",
      "|     #71 (625, 13) : ripple xrp financial ant payments\n",
      "|     #80 (213, 4) : bankers senior lamba securities discipline\n",
      "|     #81 (5107, 172) : apple cook china iphone tim\n",
      "|     #83 (1591, 42) : uber kalanick board benchmark capital\n",
      "|     #84 (474, 9) : fortress sec trading february options\n",
      "|     #85 (1221, 28) : holiday percent year card friday\n",
      "|     #86 (1140, 18) : funds investors gains tax year\n",
      "|     #87 (337, 7) : debt state bailout european euro\n",
      "|     #90 (987, 35) : bitcoin mining cryptocurrency miners network\n",
      "|     #91 (1188, 20) : wework company billion neumann public\n",
      "|     #92 (951, 32) : weight wellness watchers list share\n",
      "|     #93 (1388, 42) : saudi arabia investment khashoggi softbank\n",
      "|     #95 (2972, 84) : theranos journal holmes company street\n",
      "|     #96 (692, 24) : aid rite sales novartis swiss\n",
      "|     #97 (1006, 29) : xiaomi hong kong china billion\n",
      "|     #99 (3803, 145) : music pandora spotify service streaming\n",
      "|     #100 (973, 34) : uber grail bike lyft electric\n",
      "|     #102 (2398, 45) : sprint t-mobile deal merger wireless\n",
      "|     #103 (1542, 35) : investors debt fund cash bonds\n",
      "|     #104 (2526, 63) : amazon city headquarters jobs seattle\n",
      "|     #105 (709, 16) : wynn casino resorts macau vegas\n",
      "|     #106 (472, 12) : bitcoin cryptocurrencies cryptocurrency amazon enforcement\n",
      "|     #107 (560, 21) : koum facebook silicon valley says\n",
      "|     #108 (2321, 104) : swiss billion million german percent\n",
      "|     #109 (2876, 59) : qualcomm broadcom deal board offer\n",
      "|     #110 (925, 42) : intel krzanich brian security company\n",
      "|     #111 (2476, 48) : billion share percent company earnings\n",
      "|     #113 (172, 5) : farm power wind rupees google\n",
      "|     #114 (385, 13) : uber ads expedia fetch advertising\n",
      "|     #116 (693, 7) : billion percent debt funds foreigners\n",
      "|     #117 (1245, 24) : musk tesla company private fund\n",
      "|     #118 (674, 20) : equity private apollo stations cox\n",
      "|     #119 (1319, 37) : company management fund activist value\n",
      "|     #128 (1304, 27) : juul altria tobacco e-cigarette billion\n",
      "|     #129 (2141, 40) : huawei equipment chinese government networks\n",
      "|     #131 (696, 14) : uber drivers lyft driver driving\n",
      "|     #132 (257, 10) : esports activision league blizzard fanatics\n",
      "|     #133 (9603, 246) : disney netflix streaming hulu content\n",
      "|     #134 (1389, 31) : apple cook design bloomberg report\n",
      "|     #135 (1700, 36) : tesla musk solar solarcity model\n",
      "|     #136 (3411, 84) : google alphabet company nest bets\n",
      "|     #137 (410, 3) : verizon workers unions labor employees\n",
      "|     #138 (929, 19) : thiel google gawker chinese work\n",
      "|     #139 (781, 21) : healthcare ceo unit general electric\n",
      "|     #140 (1354, 46) : buffett berkshire warren hathaway apple\n",
      "|     #141 (618, 16) : eventbrite vmware million revenue cloud\n",
      "|     #142 (658, 9) : sinclair media trump fcc local\n",
      "|     #143 (1359, 34) : percent investors financial bank yield\n",
      "|     #145 (1341, 46) : johnson sanofi billion deal company\n",
      "|     #146 (950, 31) : bitcoin square cryptocurrency price trading\n",
      "|     #147 (10921, 149) : internet fcc neutrality net pai\n",
      "|     #148 (3207, 64) : cbs viacom deal billion people\n",
      "|     #149 (776, 30) : data wireless verizon spectrum networks\n",
      "|     #150 (1324, 13) : samsung lee park south electronics\n",
      "|     #152 (2203, 58) : million cloudera public company software\n",
      "|     #154 (820, 15) : express scripts health pharmacy anthem\n",
      "|     #155 (2567, 73) : apple iphone cook iphones sales\n",
      "|     #156 (1200, 26) : cable fcc box set-top proposal\n",
      "|     #157 (742, 14) : google city san jose space\n",
      "|     #158 (677, 12) : chips apple chip semiconductor manufacturing\n",
      "|     #159 (644, 25) : drug health biotech cancer treatments\n",
      "|     #160 (3831, 58) : rate credit rates interest federal\n",
      "|     #161 (2513, 85) : warner time company media hbo\n",
      "|     #162 (493, 8) : immelt athenahealth bush ceo jeff\n",
      "|     #163 (1101, 45) : zuckerberg facebook shares mark chan\n",
      "|     #164 (915, 8) : sports fanduel betting draftkings jersey\n",
      "|     #166 (308, 12) : venture singapore capital start-ups capitalists\n",
      "|     #167 (675, 14) : million game games revenue billion\n",
      "|     #177 (1489, 31) : qualcomm broadcom apple china nxp\n",
      "|     #178 (1741, 43) : amazon prime members foods delivery\n",
      "|     #179 (900, 22) : amazon stores foods physical capex\n",
      "|     #180 (523, 17) : apple jobs comcast iphone charter\n",
      "|     #181 (2812, 69) : digital icos tokens coin ico\n",
      "|     #183 (429, 10) : market trump fintech gundlach investment\n",
      "|     #184 (961, 26) : trump election dimon presidential trade\n",
      "|     #185 (7060, 220) : amazon prime products sellers delivery\n",
      "|     #186 (3552, 77) : facebook libra financial marcus digital\n",
      "|     #187 (744, 15) : tesla musk board shareholder leeco\n",
      "|     #188 (1460, 26) : google uber alphabet rubin singhal\n",
      "|     #189 (282, 8) : didi china billion chinese wanda\n",
      "|     #190 (3177, 71) : samsung won trillion profit south\n",
      "|     #192 (1803, 41) : bank banks dimon morgan chase\n",
      "|     #193 (428, 5) : pillpack cvs pharmacy patients walgreens\n",
      "|     #194 (648, 22) : lyft uber rakuten market zimmer\n",
      "|     #195 (1120, 21) : car sales year auto average\n",
      "|     #196 (415, 11) : uber softbank board calacanis kalanick\n",
      "|     #197 (1692, 27) : cvs walgreens health stores pharmacy\n",
      "|     #198 (1424, 36) : fund funds percent managers hedge\n",
      "|     #199 (768, 17) : fund debt bond funds banks\n",
      "|     #208 (316, 11) : sony music business yen publishing\n",
      "|     #209 (3815, 87) : yahoo verizon company mayer billion\n",
      "|     #210 (1404, 23) : bank revenue morgan trading stanley\n",
      "|     #211 (540, 11) : sandberg surveymonkey bezos pledge facebook\n",
      "|     #212 (379, 6) : airbnb housing rent rental prices\n",
      "|     #213 (484, 8) : security zuckerberg million facebook year\n",
      "|     #215 (908, 14) : yuan china year chinese currency\n",
      "|     #216 (2775, 87) : amazon apple google home smart\n",
      "|     #219 (508, 9) : etf etfs trading goldman robinhood\n",
      "|     #220 (277, 9) : zenefits sacks employees memo wrote\n",
      "|     #221 (1088, 19) : huawei meng hsbc bank iran\n",
      "|     #222 (354, 7) : uber waymo autonomous levandowski subsidiaries\n",
      "|     #224 (1465, 37) : goldman blankfein bank sachs cohn\n",
      "|     #225 (747, 21) : tariffs hasbro mattel toys china\n",
      "|     #226 (1170, 24) : uber drivers tfl appeal license\n",
      "|     #227 (2662, 43) : tesla model musk production vehicles\n",
      "|     #228 (453, 11) : bank capital advisors suisse fed\n",
      "|     #229 (800, 38) : zuckerberg facebook mark oculus ceo\n",
      "|     #230 (1508, 38) : apple iphone store friday demand\n",
      "|     #232 (350, 5) : mexico mexican jose volume trading\n",
      "|     #233 (1138, 40) : twitter square dorsey company ceo\n",
      "|     #234 (2473, 45) : market financial money retirement investors\n",
      "|     #235 (1773, 50) : spotify music public ipo shares\n",
      "|     #237 (650, 18) : banks deal big wall street\n",
      "|     #238 (599, 20) : board infosys uber ceo group\n",
      "|     #240 (670, 18) : deliveroo food amazon delivery service\n",
      "|     #241 (175, 5) : caesars entertainment illegal crackdown icahn\n",
      "|     #245 (973, 20) : banks bank rate rates accounts\n",
      "|     #246 (1814, 45) : softbank fund billion son vision\n",
      "|     #257 (299, 13) : banking financial china shadow bank\n",
      "|     #258 (1650, 44) : intel nvidia mobileye mellanox autonomous\n"
     ]
    },
    {
     "output_type": "stream",
     "name": "stderr",
     "text": [
      "Saving...\n"
     ]
    },
    {
     "output_type": "stream",
     "name": "stdout",
     "text": [
      "|     #259 (1537, 37) : apple tariffs china products trump\n",
      "|     #260 (1329, 44) : million funding didi round billion\n",
      "|     #261 (422, 16) : medicare humana plans health inc\n",
      "|     #262 (649, 13) : irs bitcoin coinbase tax gains\n",
      "|     #263 (597, 21) : adobe digital cloud software narayen\n",
      "|     #264 (363, 12) : start-ups israel san francisco cisco\n",
      "|     #265 (926, 19) : symantec company equifax trading breach\n",
      "|     #266 (874, 30) : china fintech financial asset management\n",
      "|     #267 (1428, 41) : banks european brexit bank vote\n",
      "|     #268 (836, 16) : espn disney skipper media cable\n",
      "|     #269 (449, 10) : micron huawei china united states\n",
      "|     #271 (1901, 86) : amazon bezos jeff billion ceo\n",
      "|     #272 (1411, 52) : paypal square company payments payment\n",
      "|     #273 (524, 11) : tesla china cars vehicles model\n",
      "|     #274 (602, 13) : anthem health plans obamacare insurer\n",
      "|     #275 (244, 4) : tesla stations trucks charging semi\n",
      "|     #276 (722, 46) : pounds drug british sales funding\n",
      "|     #277 (344, 6) : seed startup investors startups corporation\n",
      "|     #278 (767, 23) : amazon delivery drones robots drone\n",
      "|     #280 (3813, 133) : netflix content streaming subscribers company\n",
      "|     #282 (272, 9) : metal manufacturing 3-d weisler venture\n",
      "|     #283 (844, 20) : uber ipo billion lyft public\n",
      "|     #284 (2751, 65) : musk amd nvidia cramer intel\n",
      "|     #286 (463, 13) : food meat investors foods chef\n",
      "|     #287 (486, 14) : dow investors stocks market volatility\n",
      "|     #288 (1846, 63) : uber ceo whitman company board\n",
      "|     #289 (306, 6) : offer bank percent accepted women\n",
      "|     #290 (662, 6) : tesla model musk cars vehicles\n",
      "|     #291 (8075, 184) : bitcoin cryptocurrency cryptocurrencies digital currency\n",
      "|     #292 (1057, 21) : health deal billion care centene\n",
      "|     #293 (445, 6) : sofi employees loans money board\n",
      "|     #294 (1606, 30) : tesla model production company employees\n",
      "|     #295 (437, 7) : uber drivers grab singapore asia\n",
      "|     #296 (667, 10) : market investors stocks portfolio stock\n",
      "|     #297 (417, 7) : income passive percent years financial\n",
      "|     #298 (745, 16) : hong kong china alibaba billion\n",
      "|     #299 (282, 5) : currency country banks financial coin\n",
      "|     #300 (426, 11) : aig prudential financial american metlife\n",
      "|     #301 (719, 20) : bank deutsche german staley lender\n",
      "|     #302 (326, 5) : money fees robinhood league accounts\n",
      "|     #303 (750, 12) : foxconn wisconsin jobs plant trump\n",
      "|     #304 (605, 17) : trump financial treasury donald bank\n",
      "|     #306 (1288, 22) : wells bank fargo customers scandal\n",
      "|     #307 (581, 20) : airbnb chesky hotel company public\n",
      "|     #308 (270, 3) : overstock byrne years fireeye comments\n",
      "|     #309 (581, 7) : fund china investors softbank private\n",
      "|     #311 (291, 6) : wirecard firm singapore bank revolut\n",
      "|     #312 (391, 15) : billion million deal fresenius australian\n",
      "|     #313 (315, 6) : huawei government equipment security chinese\n",
      "|     #314 (1495, 33) : health plans care insurance oscar\n",
      "|     #315 (922, 20) : toshiba digital western business chip\n",
      "|     #316 (873, 16) : unitedhealth health insurer billion medical\n",
      "|     #317 (766, 15) : debt credit card financial according\n",
      "|     #318 (900, 15) : rate hike fed market bank\n",
      "|     #320 (792, 17) : lendingclub loans laplanche investors company\n",
      "|     #321 (2305, 54) : tencent china chinese games game\n",
      "|     #322 (204, 4) : pharmaceutical drugs robbins amazon health-care\n",
      "|     #323 (461, 9) : members tiger sonnenfeldt real holdings\n",
      "|     #324 (731, 11) : wireless t-mobile sprint deal network\n",
      "|     #326 (274, 11) : bankruptcy cards gift crowdfunding loan\n",
      "|     #327 (292, 6) : nintendo switch console gaming units\n",
      "|     #337 (294, 6) : sources billion bloomberg deal blackrock\n",
      "|     #339 (1354, 34) : tesla musk elon ceo production\n",
      "|     #340 (438, 11) : bove bank banks banking stocks\n",
      "|     #341 (924, 23) : apple content disney netflix billion\n",
      "|     #342 (1368, 37) : amazon pharmacy health drug pillpack\n",
      "|     #343 (899, 29) : dropbox alibaba box fund company\n",
      "|     #345 (1015, 30) : data deal adyen advertising digital\n",
      "|     #346 (2417, 61) : microsoft cloud linkedin azure nadella\n",
      "|     #348 (1279, 44) : apple european ireland tax commission\n",
      "|     #349 (1155, 19) : tesla company musk morton chief\n",
      "|     #350 (341, 5) : hyperloop china transportation pishevar trade\n",
      "|     #351 (892, 26) : cambridge analytica data palantir facebook\n",
      "|     #352 (1442, 34) : blockchain technology bitcoin bank ibm\n",
      "|     #354 (667, 20) : trade tariffs china chinese war\n",
      "|     #355 (697, 12) : bank loans mortgage credit home\n",
      "|     #356 (409, 4) : china banks yuan africa countries\n",
      "|     #357 (1439, 38) : salesforce software cloud company customers\n",
      "|     #358 (480, 6) : india indian foreign banks country\n",
      "|     #359 (243, 5) : chips align product products manufacturing\n",
      "|     #361 (208, 10) : discovery zaslav deal zealand network\n",
      "|     #362 (1105, 36) : tesla vehicles electric cars self-driving\n",
      "|     #363 (646, 19) : doordash delivery softbank company uber\n",
      "|     #364 (1111, 39) : job apron blue employees salary\n",
      "|     #366 (658, 7) : plan fees funds retirement percent\n",
      "|     #367 (3858, 106) : ibm cloud amazon cisco software\n",
      "|     #368 (709, 15) : bank america moynihan goldman financial\n",
      "|     #369 (361, 9) : trading futures contracts hong kong\n",
      "|     #370 (529, 11) : space spacex industry investors commercial\n",
      "|     #371 (1223, 42) : self-driving cars waymo uber car\n",
      "|     #372 (1312, 23) : ico tokens investors blockchain icos\n",
      "|     #373 (297, 8) : wealth global management pwc managers\n",
      "|     #374 (246, 5) : price stocks dividend backers bill\n",
      "|     #376 (1203, 24) : banks bank capital financial institutions\n",
      "|     #377 (1320, 26) : uber khosrowshahi billion eats business\n",
      "|     #378 (370, 8) : gold investors asset gross assets\n",
      "|     #381 (331, 7) : boston scientific medical device market\n",
      "|     #382 (358, 12) : palihapitiya capital social venture chamath\n",
      "|     #383 (474, 10) : goldman morgan deals bank banks\n",
      "|     #385 (2607, 107) : amazon business cloud bezos retail\n",
      "|     #386 (453, 7) : blackrock funds asset fund manager\n",
      "|     #387 (269, 4) : tax property liens wealth taxes\n",
      "|     #388 (413, 9) : venture plot capital episode liquidation\n",
      "|     #389 (814, 34) : foxconn nokia apple microsoft china\n",
      "|     #390 (808, 31) : blackberry software hardware chen smartphone\n",
      "|     #391 (377, 4) : cigna scripts express icahn deal\n",
      "|     #392 (614, 5) : financial walsh investors securities money\n",
      "|     #394 (322, 10) : com sales nordstrom online amazon\n",
      "|     #396 (1107, 17) : tesla model musk car refund\n",
      "|     #397 (316, 5) : index reading recession data pleasure\n",
      "|     #399 (157, 3) : jobs benioff ibm summit create\n",
      "|     #400 (206, 6) : euros ipo germany blackrock usd\n",
      "|     #402 (706, 9) : stock plan percent company employees\n",
      "|     #404 (519, 21) : gopro woodman camera company drone\n",
      "|     #405 (389, 10) : islamic bank financial banks bonds\n",
      "|     #406 (592, 20) : baidu alibaba southeast lazada internet\n",
      "|     #409 (562, 8) : hong kong singapore exchange companies\n",
      "|     #413 (456, 8) : facebook libra blockchain users ethereum\n",
      "|     #414 (287, 11) : pure storage dell data emc\n",
      "|     #415 (411, 10) : bank settlement visa million billion\n",
      "|     #416 (605, 17) : microsoft apple amazon surface tablet\n",
      "|     #418 (195, 6) : energy chinese breyer milner trillion\n",
      "|     #419 (1123, 18) : fed federal bank market rates\n",
      "|     #420 (312, 6) : service tesla repair tinder apple\n",
      "|     #423 (494, 13) : banks equity crisis financial private\n",
      "|     #437 (482, 14) : fund bank index jpmorgan bond\n",
      "|     #438 (490, 4) : noble sec trading market group\n",
      "|     #439 (613, 12) : card cards chip credit contactless\n",
      "|     #440 (426, 6) : bank wells fargo scandal customers\n",
      "|     #441 (246, 9) : samsung electronics note business announced\n",
      "|     #442 (190, 5) : foreign ant alipay microchip japanese\n",
      "|     #443 (296, 9) : tech offers talent carlyle sector\n",
      "|     #444 (298, 5) : obamacare cigna health cordani aetna\n",
      "|     #445 (352, 9) : huawei smartphone cisco journal trade\n",
      "|     #447 (1210, 34) : alibaba chinese e-commerce china day\n",
      "|     #448 (1000, 28) : slack software microsoft atlassian million\n",
      "|     #449 (313, 13) : south korea huawei rwanda korean\n",
      "|     #450 (242, 7) : credit purchase financing retailers online\n",
      "|     #451 (256, 7) : travel europe flights airlines according\n",
      "|     #453 (447, 11) : trump diller think kushner administration\n",
      "|     #455 (334, 7) : investors financials market sector financial\n",
      "|     #460 (325, 5) : autonomy lynch blackberry hewlett-packard fraud\n",
      "|     #461 (197, 2) : uber bloomberg ceo hampton creek\n",
      "|     #463 (1092, 39) : fiber google internet service broadband\n",
      "|     #465 (449, 11) : uber careem ride-hailing didi cities\n",
      "|     #466 (357, 7) : saudi aramco listing arabia ipo\n",
      "|     #471 (584, 26) : home estate real zillow fitbit\n",
      "|     #475 (762, 23) : benioff salesforce san francisco city\n",
      "|     #477 (213, 5) : cash agents electronic paid payment\n",
      "|     #478 (807, 21) : tesla musk elon private short-sellers\n",
      "|     #479 (339, 7) : ackman herbalife pershing fund square\n",
      "|     #481 (482, 13) : medical health care group amazon\n",
      "|     #482 (409, 9) : banks bank dimon wall morgan\n",
      "|     #484 (297, 11) : ebay online etsy iac amazon\n",
      "|     #488 (499, 7) : loans bank hsbc square loan\n",
      "|     #491 (491, 14) : brexit european financial british risk\n",
      "|     #492 (280, 5) : funds private equity hedge assets\n",
      "|     #493 (300, 10) : ibm data mainframe computing quantum\n",
      "|     #495 (1789, 53) : intel chips data amd cloud\n",
      "|     #496 (6926, 175) : apple services roku iphone streaming\n",
      "|     #497 (2339, 67) : cramer apple money jim cnbc\n",
      "|     #498 (2072, 48) : users wechat app financial pay\n",
      "|     #499 (738, 22) : amazon walmart instacart flipkart e-commerce\n",
      "|     #501 (338, 9) : brexit emerging data going markets\n",
      "|     #505 (235, 4) : impact portfolio investing case investments\n",
      "|     #509 (407, 12) : yahoo yelp google search mozilla\n",
      "|     #513 (1191, 38) : apple munster reality iphone augmented\n",
      "|     #514 (684, 23) : htc google smartphone reality virtual\n",
      "|     #516 (526, 22) : robotics robots automation jobs robot\n",
      "|     #518 (385, 12) : estate real homes fund blackstone\n",
      "|     #522 (4351, 102) : cloud microsoft google amazon data\n",
      "|     #526 (669, 12) : jawbone lawsuit palantir fitbit filed\n",
      "|     #528 (269, 6) : docker nielsen singh juicero software\n",
      "|     #534 (271, 6) : dalio fund deck intuit bridgewater\n",
      "|     #537 (251, 5) : million temasek china fund shares\n",
      "|     #540 (311, 8) : equifax breach deloitte cybersecurity disclosure\n",
      "|     #543 (351, 5) : credit loans goldman loan marcus\n",
      "|     #546 (539, 16) : apple card cobalt lte credit\n",
      "|     #555 (295, 13) : twitter costolo peck doshi williams\n",
      "|   #9 (203, 49) : thiel kuala lumpur reported billionaire\n",
      "|     #18 (202, 49) : paulo sao brazilian brazil healthcare\n",
      "|   #10 (2614, 82) : card rewards credit bank cards\n",
      "|     #23 (1322, 57) : credit card cards according score\n",
      "|     #89 (299, 17) : venmo app paypal lyft amazon\n",
      "|     #256 (136, 6) : health alto apple round debt\n",
      "|     #468 (90, 2) : tip square cashless union hospitality\n",
      "|   #11 (140, 18) : fitch italia says telecom supreme\n",
      "|     #347 (307, 18) : canada trudeau trump toronto canadian\n",
      "|   #12 (112, 14) : noble maris sources stake google\n",
      "|     #28 (154, 14) : intel ryzen amd processors chips\n",
      "|   #13 (345, 66) : mayor twitter ceo tax breed\n",
      "|     #29 (390, 50) : francisco san tech lee city\n",
      "|     #379 (376, 16) : tinder hyperloop lawsuit match iac\n",
      "|   #14 (109, 20) : uptake equipment data power industrial\n",
      "|     #32 (313, 8) : square price list feet total\n",
      "|     #469 (292, 12) : go-jek indonesia ride-hailing singapore google\n",
      "|   #15 (164, 4) : stocks need bonds funds market\n",
      "|     #33 (308, 4) : portfolio percent rebalancing rebalance allocation\n",
      "|   #40 (2098, 40) : waymo uber levandowski self-driving google\n",
      "|     #34 (1296, 40) : uber kalanick court otto company\n",
      "|   #41 (806, 7) : huawei fedex packages united states\n",
      "|     #35 (309, 7) : huawei chinese military intelligence cvs\n",
      "|   #42 (406, 46) : share cents dividend stock billion\n",
      "|     #56 (123, 3) : water ventures infrastructure group ways\n",
      "|     #57 (627, 43) : telecom italia tim milan board\n",
      "|   #43 (908, 10) : funds active passive bond investors\n",
      "|     #48 (163, 10) : mutual fidelity fixed share passively\n",
      "|   #44 (760, 17) : moviepass subscription month company service\n",
      "|     #52 (147, 17) : theater wednesday watch holdings screenings\n",
      "|   #45 (262, 10) : uber waymo jacobs allegations letter\n",
      "|     #242 (182, 6) : google search android screen choice\n",
      "|     #464 (92, 4) : bezos extortion media american post\n",
      "|   #46 (510, 35) : sky offer share all-cash takeover\n",
      "|     #60 (1214, 35) : fox comcast disney bid assets\n",
      "|   #47 (383, 33) : uber company kalanick diversity blog\n",
      "|     #98 (452, 28) : valley silicon trump thiel mcnamee\n",
      "|     #365 (123, 5) : pao dji perkins kleiner venture\n",
      "|   #72 (308, 14) : uber lawsuit court filed citigroup\n",
      "|     #69 (613, 14) : amazon counterfeit products brand sellers\n",
      "|   #73 (757, 20) : wynn macau palace percent revenue\n",
      "|     #82 (70, 11) : meghan britain markle earth footprint\n",
      "|     #182 (586, 9) : wynn company resorts gaming commission\n",
      "|   #74 (759, 10) : shkreli retrophin testified capital company\n",
      "|     #88 (650, 10) : msmb fund hedge investors funds\n",
      "|   #75 (273, 18) : dhabi abu dialysis outset billion\n",
      "|     #94 (211, 18) : aurora hyundai electric vehicles self-driving\n",
      "|   #76 (328, 6) : facebook zuckerberg school alto city\n",
      "|     #483 (68, 6) : cities countries ubereats mike expansion\n",
      "|   #77 (340, 5) : amazon pharmacy pillpack drug health\n",
      "|     #191 (59, 5) : prescription drugs analysts threat sell\n",
      "|   #78 (709, 23) : self-driving cars uber autonomous waymo\n",
      "|     #112 (268, 23) : lyft automakers safety transportation self-driving\n",
      "|   #79 (230, 14) : musk committee private special transaction\n",
      "|     #247 (151, 4) : laundering regulations advisors money g20\n",
      "|     #446 (289, 10) : tesla union workers employees kickstarter\n",
      "|   #120 (203, 13) : tether bitcoin cryptocurrency exchange price\n",
      "|     #130 (111, 4) : bicycle astrazeneca signed develop biotech\n",
      "|     #375 (68, 2) : coins circulation cent pence pennies\n",
      "|     #412 (361, 7) : austin lyft uber drivers checks\n",
      "|   #122 (437, 16) : amazon service delivery walmart parcel\n",
      "|     #500 (151, 4) : diapers services tracy week industry\n",
      "|     #541 (140, 12) : token sector offerings legitimate icos\n",
      "|   #123 (367, 9) : city austin arcade drivers uber\n",
      "|     #165 (205, 9) : jurvetson tesla dfj board firm\n",
      "|   #124 (325, 16) : unlimited data plan month verizon\n",
      "|     #454 (121, 16) : office meals vacation offer offering\n",
      "|   #125 (362, 26) : epipen generic price pharmacy company\n",
      "|     #153 (145, 26) : inc pfizer wednesday amsterdam additional\n",
      "|   #126 (96, 10) : soundcloud barclays friday leeco bank\n",
      "|     #239 (421, 10) : cannabis bank banks cash financial\n",
      "|   #127 (195, 5) : time warner leon judge government\n",
      "|     #517 (133, 5) : wework softbank space clutter vision\n",
      "|   #168 (295, 13) : amazon uber breitbart blackburn employees\n",
      "|     #176 (217, 13) : workers dimon financial morgan security\n",
      "|   #169 (269, 16) : uber drivers city taxi cap\n",
      "|     #336 (135, 16) : service airbus uber oslo api\n",
      "|   #170 (948, 9) : juul tobacco percent altria year\n",
      "|     #305 (196, 9) : iqos markets market smoking version\n",
      "|   #171 (303, 17) : uber quebec province city taxi\n",
      "|     #281 (402, 17) : uber drivers company tipping riders\n",
      "|   #172 (1654, 40) : dish t-mobile sprint deal network\n",
      "|     #61 (429, 33) : boost department justice prepaid wireless\n",
      "|     #536 (443, 7) : qualcomm order broadcom proposed shall\n",
      "|   #173 (225, 26) : fannie mae housing freddie market\n",
      "|     #338 (1021, 24) : uber company kalanick fowler harassment\n",
      "|     #456 (134, 2) : instacart payment guarantee tips batch\n",
      "|   #174 (421, 9) : amazon healthcare walgreens berkshire pessina\n",
      "|     #550 (168, 9) : venture khosla women harassment capitalists\n",
      "|   #175 (342, 10) : tilray products cannabis percent sinclair\n",
      "|     #408 (101, 10) : flatiron round roche patients cancer\n",
      "|   #200 (330, 13) : digital lagarde central banks imf\n",
      "|     #243 (200, 13) : currencies bank world payments virtual\n",
      "|   #201 (342, 16) : uber sexual harassment board review\n",
      "|     #214 (303, 16) : kalanick uber travis ceo culture\n",
      "|   #202 (215, 3) : credit insurance score driving auto\n",
      "|     #472 (65, 3) : estonian cohn marshall estonia programme\n",
      "|   #203 (77, 15) : broadband spacex fcc satellites fiber\n",
      "|     #217 (554, 15) : huawei equipment chinese united telecoms\n",
      "|   #204 (189, 4) : gopro hero5 wedding insurance percent\n",
      "|     #556 (101, 4) : quip 23andme dental sequencing offering\n",
      "|   #205 (893, 19) : credit federal loans loan interest\n",
      "|     #223 (445, 13) : credit consumers equifax experian lock\n",
      "|     #244 (139, 6) : think money way family best\n",
      "|   #207 (2417, 55) : wells bank fargo accounts million\n",
      "|     #285 (1229, 47) : stumpf committee tuesday warren john\n",
      "|     #403 (148, 3) : city philadelphia lawsuit court complaint\n",
      "|     #502 (131, 5) : insurance auto report mistake internal\n",
      "|   #248 (129, 5) : trump lyft kalanick icahn transport\n",
      "|     #236 (314, 5) : uber drivers commission fare contract\n",
      "|   #249 (250, 6) : tesla fire model production musk\n",
      "|     #470 (135, 6) : listed debt website prime systems\n",
      "|   #250 (3093, 75) : cvs health aetna deal care\n",
      "|     #115 (507, 25) : scripts express cigna amazon pillpack\n",
      "|     #270 (779, 30) : cvs stores walgreens amazon patients\n",
      "|     #344 (923, 10) : huawei skycom meng iran case\n",
      "|     #452 (124, 10) : bertolini chamber commerce mark connecticut\n",
      "|   #251 (240, 15) : apple china trade tariffs mac\n",
      "|     #279 (344, 15) : huawei chinese trump president national\n",
      "|   #252 (266, 5) : fed yellen trump president banks\n",
      "|     #545 (200, 5) : thiel trump jobs trade neill\n",
      "|   #253 (122, 4) : transit daimler services cities ticketing\n",
      "|     #457 (133, 4) : uber safety liu sexual johnson\n",
      "|   #254 (91, 7) : workers verizon h-1b visas find\n",
      "|     #473 (195, 7) : health investors andreessen fund silicon\n",
      "|   #255 (386, 11) : starboard bristol-myers deal board celgene\n",
      "|     #525 (179, 11) : bezos amazon vice smith ceo\n",
      "|   #328 (358, 8) : samsung galaxy fold cnbc device\n",
      "|     #422 (208, 8) : fcc launch satellites rocket cnbc\n",
      "|   #329 (253, 17) : health feinberg haven venture ceo\n",
      "|     #310 (338, 17) : google alphabet schmidt brin uber\n",
      "|   #330 (105, 5) : jurvetson gottlieb pfizer venture drug\n",
      "|     #508 (190, 5) : uber commission complaints letter state\n",
      "|   #331 (170, 3) : companies regulations export space foreign\n",
      "|     #384 (76, 3) : messenger yahoo banks marcus platform\n",
      "|   #332 (855, 18) : savings accounts money banks percent\n",
      "|     #360 (154, 12) : fees account maintenance need certain\n",
      "|     #487 (129, 6) : senators robinhood letter friends points\n",
      "|   #333 (200, 12) : sharp foxconn gou hon hai\n",
      "|     #490 (150, 9) : apple campbell pad google court\n",
      "|     #519 (130, 3) : microsoft employees letter singapore agreement\n",
      "|   #334 (230, 14) : percent settlement bondholders groups puerto\n",
      "|     #231 (286, 4) : huawei secrets trade song patents\n",
      "|     #434 (135, 5) : thiel zealand labs breakout citizenship\n",
      "|     #542 (112, 5) : workers h-1b study talented skilled\n",
      "|   #335 (266, 7) : bank deutsche transactions trump activity\n",
      "|     #421 (122, 7) : samsung france rights south violations\n",
      "|   #424 (137, 13) : sony game customers refund consumer\n",
      "|     #432 (296, 13) : jawbone fitbit coin wearable product\n",
      "|   #425 (141, 4) : rating reviews ratings grubhub system\n",
      "|     #433 (221, 4) : employees culture spacex company work\n",
      "|   #429 (256, 3) : cfius broadcom grindr deal qualcomm\n",
      "|     #507 (63, 3) : lee auction gaming lunch meetings\n",
      "|   #430 (121, 5) : credit card debit lock citi\n",
      "|     #401 (186, 5) : consumer cordray bureau fees cfpb\n",
      "|   #431 (124, 4) : sanctions russian meng huawei microsoft\n",
      "|     #435 (83, 4) : index cac communications included removed\n",
      "|\n",
      "\n",
      "[nltk_data] Downloading package wordnet to /root/nltk_data...\n",
      "[nltk_data]   Package wordnet is already up-to-date!\n"
     ]
    },
    {
     "output_type": "stream",
     "name": "stderr",
     "text": [
      "Training...\n"
     ]
    },
    {
     "output_type": "stream",
     "name": "stdout",
     "text": [
      "Num docs: 17828 , Vocab size: 15740 , Num words: 1238025\n",
      "Removed top words: []\n",
      "Iteration: 00010\tll per word: -inf\tNum. of topics: 271\n",
      "Iteration: 00020\tll per word: -inf\tNum. of topics: 377\n",
      "Iteration: 00030\tll per word: -inf\tNum. of topics: 468\n",
      "Iteration: 00040\tll per word: -inf\tNum. of topics: 538\n",
      "Iteration: 00050\tll per word: -inf\tNum. of topics: 582\n",
      "Iteration: 00060\tll per word: -inf\tNum. of topics: 631\n",
      "Iteration: 00070\tll per word: -inf\tNum. of topics: 659\n",
      "Iteration: 00080\tll per word: -inf\tNum. of topics: 680\n",
      "Iteration: 00090\tll per word: -inf\tNum. of topics: 704\n",
      "Iteration: 00100\tll per word: -inf\tNum. of topics: 711\n",
      "Iteration: 00110\tll per word: -inf\tNum. of topics: 697\n",
      "Iteration: 00120\tll per word: -inf\tNum. of topics: 695\n",
      "Iteration: 00130\tll per word: -inf\tNum. of topics: 692\n",
      "Iteration: 00140\tll per word: -inf\tNum. of topics: 690\n",
      "Iteration: 00150\tll per word: -inf\tNum. of topics: 687\n",
      "Iteration: 00160\tll per word: -inf\tNum. of topics: 686\n",
      "Iteration: 00170\tll per word: -inf\tNum. of topics: 686\n",
      "Iteration: 00180\tll per word: -inf\tNum. of topics: 686\n",
      "Iteration: 00190\tll per word: -inf\tNum. of topics: 685\n",
      "Iteration: 00200\tll per word: -inf\tNum. of topics: 685\n",
      "<Basic Info>\n",
      "| HLDAModel (current version: 0.12.2)\n",
      "| 17828 docs, 1238025 words\n",
      "| Total Vocabs: 52338, Used Vocabs: 15740\n",
      "| Entropy of words: 8.31821\n",
      "| Entropy of term-weighted words: 8.31821\n",
      "| Removed Vocabs: <NA>\n",
      "|\n",
      "<Training Info>\n",
      "| Iterations: 200, Burn-in steps: 0\n",
      "| Optimization Interval: 10\n",
      "| Log-likelihood per word: -inf\n",
      "|\n",
      "<Initial Parameters>\n",
      "| tw: TermWeight.ONE\n",
      "| min_cf: 0 (minimum collection frequency of words)\n",
      "| min_df: 5 (minimum document frequency of words)\n",
      "| rm_top: 0 (the number of top words to be removed)\n",
      "| depth: 3 (the maximum depth level of hierarchy between 2 ~ 32767)\n",
      "| alpha: [0.1] (hyperparameter of Dirichlet distribution for document-depth level, given as a single `float` in case of symmetric prior and as a list with length `depth` of `float` in case of asymmetric prior.)\n",
      "| eta: 0.01 (hyperparameter of Dirichlet distribution for topic-word)\n",
      "| gamma: 0.1 (concentration coeficient of Dirichlet Process)\n",
      "| seed: 4202440901 (random seed)\n",
      "| trained in version 0.12.2\n",
      "|\n",
      "<Parameters>\n",
      "| alpha (Dirichlet prior on the per-document depth level distributions)\n",
      "|  [0.8115177  0.30700743 1.0750797 ]\n",
      "| eta (Dirichlet prior on the per-topic word distribution)\n",
      "|  0.01\n",
      "| gamma (concentration coeficient of Dirichlet Process)\n",
      "|  0.1\n",
      "| Number of Topics: 685\n",
      "|\n",
      "<Topics>\n",
      "| #0 (479966, 17826) : people health study according years\n",
      "|   #8 (116803, 8852) : trump bill health president house\n",
      "|     #16 (119774, 2365) : insurance health percent people care\n",
      "|     #20 (520, 27) : science nasa space earth trump\n",
      "|     #29 (762, 23) : vaping e-cigarettes vape regulations e-cigarette\n",
      "|     #42 (2534, 188) : cosby judge court assault boston\n",
      "|     #49 (2903, 162) : court law state federal judge\n",
      "|     #50 (1032, 41) : kelly chicago charges sexual singer\n",
      "|     #51 (312, 7) : world davos global change arctic\n",
      "|     #52 (1556, 68) : climate change emissions environmental agency\n",
      "|     #54 (2164, 191) : drug photo getty food administration\n",
      "|     #66 (687, 21) : oil climate tillerson fossil arctic\n",
      "|     #69 (1600, 74) : crispr scientists human technology embryos\n",
      "|     #70 (30325, 1411) : health study risk suggests researchers\n",
      "|     #75 (10719, 189) : tax irs income year taxes\n",
      "|     #78 (332, 5) : water device pollutants soap membrane\n",
      "|     #79 (248, 11) : election mental prevent duty psychiatrists\n",
      "|     #83 (670, 14) : tick ticks disease longhorned jersey\n",
      "|     #90 (411, 11) : people cases states fear natural\n",
      "|     #91 (484, 24) : sleep brain channels mice night\n",
      "|     #94 (2776, 119) : drug mylan department million justice\n",
      "|     #108 (638, 22) : wolves species endangered wildlife conservation\n",
      "|     #111 (934, 41) : fda gottlieb drug food administration\n",
      "|     #116 (471, 24) : climate exxon change general state\n",
      "|     #117 (424, 11) : species gulf maine wildlife marine\n",
      "|     #129 (1751, 48) : hurricane storm florida irma hurricanes\n",
      "|     #130 (835, 32) : kratom addiction drug opioid substance\n",
      "|     #133 (217, 5) : animal undercover farm conditions farms\n",
      "|     #134 (2482, 69) : company million johnson jury damages\n",
      "|     #136 (12697, 275) : fda products juul e-cigarettes tobacco\n",
      "|     #137 (603, 26) : mental prison inmates health solitary\n",
      "|     #139 (485, 61) : france paris assisted country french\n",
      "|     #153 (1086, 38) : johnson company powder baby talc\n",
      "|     #154 (658, 20) : lawsuit filed court google plaintiffs\n",
      "|     #161 (1299, 49) : trump order ban executive president\n",
      "|     #163 (2122, 77) : fcc neutrality internet net federal\n",
      "|     #165 (733, 24) : marijuana weed use medical cannabis\n",
      "|     #178 (225, 5) : women female athletes testosterone men\n",
      "|     #180 (1726, 65) : gene therapy drug roche drugs\n",
      "|     #181 (1398, 82) : abortion women ban states state\n",
      "|     #182 (380, 37) : civil liberties google kentucky parenthood\n",
      "|     #183 (1369, 54) : cannabis cbd marijuana products hemp\n",
      "|     #185 (286, 9) : allergy study allergic epinephrine peanut\n",
      "|     #187 (693, 35) : human cells blood tissue scientists\n",
      "|     #188 (2196, 190) : trump donald president campaign science\n",
      "|     #197 (727, 45) : philippine manila dengue sanofi french\n",
      "|     #208 (345, 8) : drug coral cancer sea scientists\n",
      "|     #212 (387, 15) : sugar cook blood device apple\n",
      "|     #213 (1651, 47) : zika mosquitoes virus mosquito spread\n",
      "|     #220 (339, 9) : sprint caffeine product woo results\n",
      "|     #222 (362, 12) : officials county legionnaires drug disney\n",
      "|     #225 (658, 23) : species pollinators bee bees world\n",
      "|     #226 (1157, 60) : abortion women pregnancy woman pregnant\n",
      "|     #228 (626, 33) : trump zuckerberg president countries immigrants\n",
      "|     #229 (298, 8) : marijuana medical animals animal pets\n",
      "|     #234 (899, 30) : cancer cells patients percent tumor\n",
      "|     #238 (591, 19) : financial students university aid college\n",
      "|     #249 (274, 14) : tech silicon valley thiel apple\n",
      "|     #250 (5941, 232) : cancer patients drug treatment percent\n",
      "|     #251 (7102, 96) : student loan debt loans borrowers\n",
      "|     #256 (1883, 123) : trump clinton election donald presidential\n",
      "|     #263 (2911, 117) : drug fda medicines agency drugs\n",
      "|     #266 (871, 56) : china shanghai food vaccines vaccine\n",
      "|     #268 (364, 23) : biden vice cancer mccain tonic\n",
      "|     #274 (469, 17) : amazon workers company safety warehouse\n",
      "|     #275 (823, 21) : heart fitbit sleep apple rate\n",
      "|     #282 (830, 30) : drug patients diabetes food administration\n",
      "|     #290 (959, 18) : drugs depression people trial antidepressants\n",
      "|     #292 (483, 19) : heart failure disease deaths men\n",
      "|     #297 (481, 8) : student debt loan navient calls\n",
      "|     #299 (599, 32) : texas austin injuries cdc scooter\n",
      "|     #304 (315, 13) : fbi clinton comey investigation emails\n",
      "|     #307 (2703, 150) : drug patients treatment administration company\n",
      "|     #308 (247, 8) : ketamine drug depression antidepressant doses\n",
      "|     #311 (2837, 112) : smoking use percent study e-cigarettes\n",
      "|     #322 (1423, 66) : sexually men transmitted cases gonorrhea\n",
      "|     #336 (94, 3) : exemptions spicer gum child eating\n",
      "|     #342 (495, 22) : sex alcohol weed drinking sexual\n",
      "|     #344 (471, 14) : microsoft court data coke coca-cola\n",
      "|     #360 (316, 7) : state gambling sports fantasy states\n",
      "|     #380 (430, 17) : products recall product company cannabis\n",
      "|     #381 (484, 11) : love judge justice court extradition\n",
      "|     #383 (433, 14) : convicted parents son court judge\n",
      "|     #388 (359, 14) : ford stories tgam canadian canada\n",
      "|     #398 (359, 9) : surveillance intelligence act court nsa\n",
      "|     #412 (389, 17) : science european british theresa britain\n",
      "|     #414 (474, 20) : pipeline information police investigation pipelines\n",
      "|     #417 (7567, 182) : measles cases disease health states\n",
      "|     #425 (554, 30) : election twitter facebook security officials\n",
      "|     #428 (4142, 97) : opioid purdue state lawsuit company\n",
      "|     #450 (766, 2) : crack vermont police enforcement drug\n",
      "|     #454 (233, 4) : ticket lawsuit powerball hampshire million\n",
      "|     #472 (219, 13) : cuba department havana justice music\n",
      "|     #473 (372, 8) : pipeline county water dakota drone\n",
      "|     #477 (720, 49) : trump president house white donald\n",
      "|     #492 (561, 12) : verily health technology company clinical\n",
      "|     #493 (418, 6) : products goop claims cancer fda\n",
      "|     #494 (178, 3) : mental health campaign burger king\n",
      "|     #502 (658, 32) : marijuana medical drug enforcement sessions\n",
      "|     #503 (408, 14) : cbd food products department restaurants\n",
      "|     #506 (671, 22) : microsoft border children immigration policy\n",
      "|     #514 (706, 15) : facebook health users company blood\n",
      "|     #515 (262, 8) : parenthood planned federation health physician\n",
      "|     #520 (563, 24) : water lead drinking flint infrastructure\n",
      "|     #547 (366, 7) : apple order rule court legal\n",
      "|     #549 (466, 13) : drug dea administration enforcement networks\n",
      "|     #550 (1378, 78) : opioid fentanyl drug heroin overdose\n",
      "|     #556 (438, 11) : asbestos epa canada workers ban\n",
      "|     #557 (786, 14) : taxes sales tax states online\n",
      "|     #558 (446, 7) : drug spinal atrophy muscular therapy\n",
      "|     #568 (1419, 41) : huawei meng canada canadian china\n",
      "|     #576 (142, 4) : facebook data prep nhs england\n",
      "|     #578 (392, 24) : climate paris agreement mayor city\n",
      "|     #579 (338, 6) : ftc campaign contributions google according\n",
      "|     #589 (228, 12) : clinic trump cleveland resort united\n",
      "|     #592 (763, 22) : porn sex pornography internet amendment\n",
      "|     #596 (305, 6) : payments mortgage million friday relief\n",
      "|     #600 (287, 6) : syphilis british columbia says wong\n",
      "|     #602 (350, 6) : radiation findings rats cell phone\n",
      "|     #604 (219, 6) : energy solar trump clean power\n",
      "|     #606 (328, 6) : price treatment brain rights murthy\n",
      "|     #622 (520, 12) : financial crisis banks housing system\n",
      "|     #624 (222, 8) : uber rights people disabled vehicles\n",
      "|     #628 (409, 11) : park national service study climate\n",
      "|     #640 (970, 29) : marijuana medical cannabis state patients\n",
      "|     #645 (212, 1) : coverage applications gao obamacare approved\n",
      "|     #651 (175, 6) : hiv yelp council scores reviews\n",
      "|     #659 (290, 10) : film rights hospital abortion abc\n",
      "|     #666 (377, 9) : court arms saudi united governments\n",
      "|     #668 (321, 15) : security ban homeland department official\n",
      "|     #678 (276, 7) : dna testing rapid police kentucky\n",
      "|     #688 (338, 12) : marijuana state san legalize francisco\n",
      "|     #693 (330, 17) : financial consumer agency bureau literacy\n",
      "|     #729 (262, 11) : report facebook myanmar rights texas\n",
      "|     #745 (198, 10) : facts nutrition food label fda\n",
      "|     #746 (293, 4) : free state hampshire sen pai\n",
      "|     #747 (498, 19) : tobacco industry stress companies canadian\n",
      "|     #761 (631, 13) : polio health workers india pakistan\n",
      "|     #773 (208, 6) : india juul company electronic secrets\n",
      "|   #9 (61233, 4273) : percent according people year plan\n",
      "|     #17 (34732, 893) : zika virus health cases disease\n",
      "|     #18 (1234, 39) : drug liver disease inc blood\n",
      "|     #21 (324, 17) : skin psoriasis products lotion eczema\n",
      "|     #22 (704, 50) : india disease cuba symptoms delhi\n",
      "|     #23 (495, 20) : climate change coral snow species\n",
      "|     #25 (465, 22) : cannabis marijuana hemp cbd norml\n",
      "|     #27 (1052, 33) : benefits retirement social security age\n",
      "|     #45 (366, 13) : dental teeth tooth brushing plaque\n",
      "|     #46 (149, 3) : nobel prize medicine institute awarded\n",
      "|     #55 (266, 14) : military corps veterans trump disabled\n",
      "|     #67 (560, 14) : habits financial rich data habit\n",
      "|     #71 (1052, 24) : water drinking lead flint fracking\n",
      "|     #76 (689, 46) : glyphosate monsanto herbicide european ingredient\n",
      "|     #77 (1142, 38) : parents college admissions federal boston\n",
      "|     #81 (832, 22) : study crashes car drivers disease\n",
      "|     #86 (450, 9) : bacteria co2 body carbon odor\n",
      "|     #88 (799, 27) : trump president scientists climate science\n",
      "|     #104 (249, 10) : teachers percent students idea newport\n",
      "|     #105 (334, 10) : mental depression winter health sad\n",
      "|     #106 (740, 36) : food meat eat diet burger\n",
      "|     #107 (711, 29) : disease gluten gluten-free celiac study\n",
      "|     #118 (1104, 41) : malaria world diseases countries disease\n",
      "|     #138 (1243, 47) : climate change email warming global\n",
      "|     #141 (695, 13) : repair legislation right companies bills\n",
      "|     #156 (1034, 16) : pipeline dakota standing rock environmental\n",
      "|     #157 (594, 15) : money partner financial relationship marriage\n",
      "|     #158 (667, 33) : rio zika janeiro virus brazil\n",
      "|     #159 (1052, 17) : student debt people social loneliness\n",
      "|     #160 (485, 15) : sweeteners sugar artificial calories million\n",
      "|     #166 (640, 39) : study percent researchers health patients\n",
      "|     #167 (686, 21) : north korea trump united war\n",
      "|     #172 (5194, 162) : people cdc outbreak disease states\n",
      "|     #173 (1195, 65) : cancer health screening study adults\n",
      "|     #174 (536, 13) : court estate pipeline oil canada\n",
      "|     #175 (164, 6) : fitbit weight health cats edwards\n",
      "|     #176 (543, 39) : children parents kids college pediatrics\n",
      "|     #184 (312, 7) : school parents shopping percent year\n",
      "|     #189 (1725, 72) : study drinking health coffee drinks\n",
      "|     #190 (528, 15) : brain depression course lateral disorder\n",
      "|     #191 (552, 24) : gun police guns laws law\n",
      "|     #192 (1345, 46) : women birth control app contraception\n",
      "|     #194 (392, 8) : antibiotics allergies people course antibiotic\n",
      "|     #195 (589, 24) : vegan meat eat products animal\n",
      "|     #198 (524, 26) : cells stem cell hopkins brain\n",
      "|     #199 (322, 5) : synthetic cannabinoids marijuana thc high\n",
      "|     #210 (327, 8) : medical marijuana doctors school percent\n",
      "|     #211 (290, 9) : nfl players marijuana sports football\n",
      "|     #214 (2124, 57) : cities debt average income credit\n",
      "|     #216 (342, 7) : income business salary deduction entrepreneurs\n",
      "|     #224 (442, 15) : women sexual microsoft harassment men\n",
      "|     #227 (295, 10) : manning obama prison president life\n",
      "|     #230 (558, 26) : temperatures record climate degrees heat\n",
      "|     #233 (315, 14) : doctor care women practice says\n",
      "|     #236 (706, 21) : sex sexual relationships university study\n",
      "|     #237 (244, 11) : memories traumatic anxiety memory funeral\n",
      "|     #248 (363, 10) : tissues researchers cancer cells organs\n",
      "|     #253 (502, 11) : companies users facebook twitter internet\n",
      "|     #255 (339, 8) : china oxycodone drugs opioid drug\n",
      "|     #257 (1309, 43) : cancer study women percent cancers\n",
      "|     #259 (321, 15) : alberta oil carbon climate canada\n",
      "|     #261 (569, 22) : dog home pet owners pets\n",
      "|     #262 (211, 8) : debt hanson lauren credit debt-free\n",
      "|     #265 (433, 17) : mri medical imaging adults scans\n",
      "|     #269 (974, 17) : tax state states local federal\n",
      "|     #278 (988, 28) : drug drugs patients therapies prescription\n",
      "|     #280 (281, 10) : election presidential trump debates americans\n",
      "|     #281 (490, 15) : puerto rico hurricane island maria\n",
      "|     #283 (402, 29) : sex study condom sexual active\n",
      "|     #284 (433, 10) : drug fda effects risk heart\n",
      "|     #288 (381, 18) : eye ariely lenses surgery vision\n",
      "|     #291 (357, 7) : retirement tax vancouver young contributions\n",
      "|     #293 (463, 11) : years life county evacuation live\n",
      "|     #295 (221, 9) : smoking tobacco hookah electronic cells\n",
      "|     #300 (579, 29) : sleep study night brain researchers\n",
      "|     #301 (263, 5) : home maintenance cost homes property\n",
      "|     #303 (420, 13) : therapy therapist cornell insurance session\n",
      "|     #309 (768, 11) : kimmel bill health cassidy care\n",
      "|     #310 (864, 36) : men sex women percent study\n",
      "|     #320 (353, 7) : business small student debt bank\n",
      "|     #323 (150, 6) : autism mccarthy spectrum autistic day\n",
      "|     #325 (295, 10) : airbnb spinal travelers hurricane cerebral\n",
      "|     #338 (2113, 26) : hsa health account expenses accounts\n",
      "|     #339 (888, 24) : students school college education schools\n",
      "|     #345 (143, 5) : drugs drug white eat conway\n",
      "|     #347 (485, 9) : dialysis davita patients kidney home\n",
      "|     #349 (361, 4) : radiation nuclear species birds organisms\n",
      "|     #350 (185, 4) : camp midwife hospital medicine barnes\n",
      "|     #352 (779, 15) : coverage insurance health senate obamacare\n",
      "|     #353 (319, 10) : environmental oil project effects mercury\n",
      "|     #357 (616, 18) : psilocybin mushrooms psychedelic drug magic\n",
      "|     #358 (633, 6) : state injury injuries compared diagnoses\n",
      "|     #361 (160, 6) : banks crisis ocasio-cortez committee smith\n",
      "|     #362 (1059, 26) : medicare theranos care cms centers\n",
      "|     #363 (248, 8) : labor workers wages robots china\n",
      "|     #364 (200, 6) : vaping vape officials market e-cigarettes\n",
      "|     #366 (617, 12) : health medicare coverage experience find\n",
      "|     #368 (7144, 121) : health insurance care trump obamacare\n",
      "|     #369 (686, 13) : college year aid students kantrowitz\n",
      "|     #370 (325, 8) : bill public lands state legalization\n",
      "|     #374 (1325, 22) : amazon city state local headquarters\n",
      "|     #376 (537, 23) : child care parents dependent tax\n",
      "|     #377 (449, 11) : tax roth ira slott giving\n",
      "|     #378 (200, 10) : brother siblings sister parents living\n",
      "|     #379 (496, 10) : transportation medicaid lyft medical care\n",
      "|     #382 (362, 17) : eating food healthy disorder nutrition\n",
      "|     #384 (952, 20) : insurance hurricane storm season policy\n",
      "|     #386 (122, 5) : breast cancer artist plastic gene\n",
      "|     #387 (445, 13) : sleep time percent work hours\n",
      "|     #392 (288, 6) : government workers job shutdown federal\n",
      "|     #393 (362, 6) : sitting patterns diabetes blood study\n",
      "|     #396 (421, 8) : patients hemophilia genetic genome hemlibra\n",
      "|     #410 (220, 7) : data patients hospitals guidelines investigation\n",
      "|     #411 (160, 2) : village community forest forests homeless\n",
      "|     #418 (690, 11) : health apple patients medical records\n",
      "|     #419 (207, 4) : uber economy council names gig\n",
      "|     #421 (287, 7) : blood facebook centers transfusions banks\n",
      "|     #424 (335, 6) : california harder employees valley tech\n",
      "|     #426 (459, 9) : women emotional men research orgasm\n",
      "|     #427 (226, 10) : food average spending restaurants spend\n",
      "|     #429 (1169, 37) : climate energy coal trump agreement\n",
      "|     #431 (224, 6) : pruitt epa scientists subcommittee flint\n",
      "|     #442 (600, 32) : college students schools parents student\n",
      "|     #443 (219, 10) : formula parents infant breast ends\n",
      "|     #445 (403, 6) : alivecor google heart toilet device\n",
      "|     #448 (1171, 27) : tobacco cigarettes smoking cigarette products\n",
      "|     #449 (314, 6) : social security benefits retirement leave\n",
      "|     #451 (1664, 32) : broadband state fcc federal coal\n",
      "|     #452 (1056, 19) : tax deduction taxes deductions income\n",
      "|     #453 (425, 64) : africa south johannesburg health african\n",
      "|     #457 (505, 9) : data surveillance companies nsa facebook\n",
      "|     #459 (287, 9) : trans transgender dating gender hormone\n",
      "|     #460 (386, 10) : apple pay medical wellness bills\n",
      "|     #465 (573, 9) : student loans loan debt interest\n",
      "|     #467 (224, 4) : tax coverage cadillac health medicare\n",
      "|     #468 (553, 24) : job percent wage careerbuilder employers\n",
      "|     #469 (278, 8) : stress brain brains financial chronic\n",
      "|     #470 (189, 5) : nuclear union material security radioactive\n",
      "|     #471 (330, 5) : irs law tax porn state\n",
      "|     #475 (278, 9) : dogs cancer dog canine smoking\n",
      "|     #476 (257, 4) : flour food products cake ingredient\n",
      "|     #479 (710, 17) : women men retirement financial money\n",
      "|     #488 (198, 3) : medical fax records langone doctors\n",
      "|     #489 (1501, 21) : drug committee prices companies hearing\n",
      "|     #490 (186, 5) : cancer body alcohol tumors colon\n",
      "|     #491 (355, 5) : mental drug health care companies\n",
      "|     #496 (249, 4) : cosgrove health care cloud google\n",
      "|     #497 (280, 5) : chan zuckerberg children wealth initiative\n",
      "|     #504 (337, 11) : drug drugs prices praluent price\n",
      "|     #509 (556, 15) : drug drugs price opioid emergency\n",
      "|     #511 (333, 14) : jobs digital report workers power\n",
      "|     #517 (185, 4) : buffett gawande lottery deem million\n",
      "|     #519 (142, 5) : shooting trauma orlando ptsd treatment\n",
      "|     #536 (334, 12) : trump twitter nyti president donald\n",
      "|     #539 (172, 8) : taylor joe aircraft rule early\n",
      "|     #540 (235, 8) : border wall agents miles united\n",
      "|     #542 (2796, 46) : fda gottlieb agency rule drug\n",
      "|     #548 (402, 10) : property tenant landlord mortgage rent\n",
      "|     #552 (607, 16) : divorce alimony financial rules spouse\n",
      "|     #555 (309, 5) : security information records social fraud\n",
      "|     #573 (305, 3) : weight watchers teens wellness habits\n",
      "|     #574 (259, 7) : elephant africa altman elephants african\n",
      "|     #580 (345, 14) : bitcoin ransomware attack criminals companies\n",
      "|     #581 (553, 4) : health information care patient agreement\n",
      "|     #583 (296, 14) : health care hospital hospitals workers\n",
      "|     #588 (178, 8) : girls nigeria families gender conception\n",
      "|     #590 (328, 5) : fcc trump president news license\n",
      "|     #591 (335, 17) : gun guns violence injuries convention\n",
      "|     #593 (290, 14) : organ donation canada transplant donor\n",
      "|     #595 (337, 13) : mental health employees cisco illness\n",
      "|     #598 (207, 7) : trump aids collins security hiv\n",
      "|     #601 (536, 5) : health care medicaid florida coverage\n",
      "|     #607 (211, 10) : cities education college graduates lendingtree\n",
      "|     #611 (279, 5) : bill trump obamacare coverage republicans\n",
      "|     #614 (299, 7) : ibm discrimination care workers sexual\n",
      "|     #615 (323, 2) : google employees accommodation process gender\n",
      "|     #616 (358, 17) : millennials percent retirement debt young\n",
      "|     #617 (150, 5) : travel burnout stress app travelling\n",
      "|     #619 (247, 5) : retirement student employer loans plans\n",
      "|     #621 (210, 7) : wilson pain opioid heroin nelson\n",
      "|     #625 (171, 9) : gates technology bill rich society\n",
      "|     #627 (255, 4) : privacy aetna information investigation letter\n",
      "|     #629 (274, 9) : facebook housing hud discriminatory chatbot\n",
      "|     #630 (537, 14) : food water rice percent growing\n",
      "|     #631 (1204, 17) : loan forgiveness public service program\n",
      "|     #635 (456, 12) : insurance storm pet winter claim\n",
      "|     #636 (186, 2) : deductible entertainment meals business law\n",
      "|     #646 (563, 6) : students accounts bank student colleges\n",
      "|     #647 (144, 3) : drone arrest cardiac shock defibrillator\n",
      "|     #648 (230, 6) : care medicare long-term need insurance\n",
      "|     #649 (428, 8) : brazilian brazil tenet investigation justice\n",
      "|     #650 (379, 13) : canada canadians internet policy drug\n",
      "|     #655 (184, 7) : social needs patients patient complexity\n",
      "|     #656 (372, 13) : ira money retirement iras inherited\n",
      "|     #660 (258, 6) : retirement income index score global\n",
      "|     #661 (238, 8) : insurance premiums fall premium claims\n",
      "|     #662 (208, 3) : genetic insurance law carbon trudeau\n",
      "|     #663 (393, 7) : financial rule fiduciary retirement interest\n",
      "|     #669 (262, 11) : millennials recession bankrate spending com\n",
      "|     #671 (736, 21) : travel according insurance americans country\n",
      "|     #674 (289, 15) : income basic government idea scottish\n",
      "|     #676 (327, 11) : women products items cleaning men\n",
      "|     #680 (185, 8) : sudan department surveillance sudanese government\n",
      "|     #682 (686, 13) : zuckerberg daca facebook prison wrote\n",
      "|     #684 (143, 3) : tax amazon sales cuts greenberg\n",
      "|     #689 (257, 5) : doctors care google physicians doctor\n",
      "|     #691 (705, 15) : countries country trump order visa\n",
      "|     #694 (1070, 14) : student loan debt borrowers loans\n",
      "|     #696 (743, 8) : policy administration price funding health\n",
      "|     #699 (235, 4) : financial inflation index personal cpa\n",
      "|     #705 (262, 6) : pennsylvania general state attorney heroin\n",
      "|     #708 (312, 3) : trump people insurance health states\n",
      "|     #722 (256, 6) : trump foreign accounts report irs\n",
      "|     #724 (173, 4) : savings emergency prudential disability money\n",
      "|     #727 (213, 6) : summer travel says vacation card\n",
      "|     #749 (140, 2) : park passes national senior service\n",
      "|     #752 (171, 4) : bill act right minerals know\n",
      "|   #10 (352, 51) : pain migraine headaches migraines patients\n",
      "|     #19 (367, 36) : weight diet pounds lose protein\n",
      "|     #72 (140, 11) : kenyan ivory kenya nairobi ali\n",
      "|     #697 (82, 4) : jay says meredith morphine lawrence\n",
      "|   #11 (1254, 23) : tobacco iqos cigarettes pmi fda\n",
      "|     #24 (680, 23) : products device fda nicotine panel\n",
      "|   #12 (360, 127) : doctors zika cells sierra leone\n",
      "|     #92 (581, 43) : study injuries concussion brain players\n",
      "|     #276 (1557, 84) : hiv virus men drug aids\n",
      "|   #13 (3486, 75) : million jackpot powerball millions lottery\n",
      "|     #26 (2125, 75) : claim winners kurland ticket pool\n",
      "|   #14 (305, 69) : france legal lambert doctors monday\n",
      "|     #28 (761, 42) : lactalis paris ivory products salmonella\n",
      "|     #73 (123, 13) : beef poland warsaw authorities taken\n",
      "|     #321 (228, 14) : court justice supreme 4th amendment\n",
      "|   #15 (164, 3) : wage minimum current employers small\n",
      "|     #780 (167, 3) : crisis opioid pain overdose opioids\n",
      "|   #32 (584, 56) : penis transplant surgeons blood donor\n",
      "|     #31 (446, 45) : doctors hospital south africa hiv\n",
      "|     #667 (418, 11) : jobs careercast degree school job\n",
      "|   #33 (751, 110) : food recall foods chicken recalling\n",
      "|     #40 (385, 45) : products eggs fipronil paris insecticide\n",
      "|     #41 (209, 14) : vegetables kids plates grams fruits\n",
      "|     #440 (378, 11) : eating baby recovery disorder sleep\n",
      "|     #534 (499, 33) : patients study source absorb company\n",
      "|     #706 (85, 2) : skin willis bad fiber yanked\n",
      "|     #726 (212, 5) : academy ezra sexual colorado assault\n",
      "|   #34 (200, 21) : usaid gps coalition coordinates data\n",
      "|     #43 (188, 10) : veterans disorder ptsd stress trauma\n",
      "|     #143 (172, 11) : water cattle suffering hurricane pets\n",
      "|   #35 (642, 13) : million shkreli federal brafman bail\n",
      "|     #44 (842, 13) : shkreli prosecutors trial tax letter\n",
      "|   #36 (109, 10) : nootropics drugs recreational smart better\n",
      "|     #767 (188, 10) : ward drugs substances legal nca\n",
      "|   #37 (333, 12) : group detention working embassy arbitrary\n",
      "|     #48 (440, 12) : lee samsung swedish court case\n",
      "|   #38 (1562, 219) : cancer drug patients treatment trial\n",
      "|     #53 (1585, 219) : cancer health women breast study\n",
      "|   #39 (340, 6) : animal usda welfare records reports\n",
      "|     #132 (124, 6) : guidelines doctor nurse accurate meat\n",
      "|   #56 (416, 65) : technology editing genetic diseases researchers\n",
      "|     #64 (500, 20) : wellness list read better pervasive\n",
      "|     #415 (194, 10) : flies fruit food sleep hours\n",
      "|     #464 (518, 26) : human crispr pig scientists cells\n",
      "|     #638 (125, 2) : psychedelic substances ayahuasca amazon dmt\n",
      "|     #673 (115, 7) : fish antidote oil seafood mutation\n",
      "|   #57 (1856, 208) : drug inc plc united regeneron\n",
      "|     #65 (1358, 91) : drug patients inc study placebo\n",
      "|     #82 (992, 63) : court allergan tribe patents federal\n",
      "|     #231 (419, 24) : rule sodium united food states\n",
      "|     #444 (284, 16) : google court search canada depression\n",
      "|     #677 (174, 5) : dogs anxiety dog ago danny\n",
      "|     #690 (99, 4) : prison bayer cigarettes noodles prisons\n",
      "|     #741 (152, 5) : merck tesla injury injuries hours\n",
      "|   #58 (165, 17) : procedure cancer colon nhs screening\n",
      "|     #272 (188, 7) : autism depression symptoms individuals rates\n",
      "|     #743 (161, 10) : aposs reported hospital boy beach\n",
      "|   #59 (480, 39) : brain university researchers paralyzed signal\n",
      "|     #80 (462, 19) : brain electrical electrodes neurons team\n",
      "|     #258 (224, 13) : published trials randomized controlled therapy\n",
      "|     #642 (186, 7) : carlson oxygen lab songs treatment\n",
      "|   #60 (278, 30) : hair loss body skin condition\n",
      "|     #85 (177, 11) : urinary infections tract women caused\n",
      "|     #653 (246, 15) : sleep tonic fighting got rub\n",
      "|     #692 (200, 4) : high cold says cannabis flu\n",
      "|   #61 (1099, 127) : farm pig farms fever virus\n",
      "|     #87 (2181, 127) : swine african fever pigs china\n",
      "|   #62 (266, 195) : foundation england thomson britain windsor\n",
      "|     #89 (354, 180) : nan reddy city mexico lisbon\n",
      "|     #340 (222, 15) : refugees european rooms greece country\n",
      "|   #63 (257, 29) : india delhi pollution air kolkata\n",
      "|     #169 (330, 29) : water lake communities lakes glaciers\n",
      "|   #96 (253, 19) : drilling oil offshore ocean obama\n",
      "|     #93 (217, 13) : arctic president climate administration fossil\n",
      "|     #686 (131, 6) : men sperm infertility fertility oxygen\n",
      "|   #97 (11886, 982) : flu bird poultry birds farm\n",
      "|     #30 (548, 44) : people united nations sept disease\n",
      "|     #95 (12046, 914) : health outbreak congo ebola world\n",
      "|     #343 (217, 7) : hurricane katrina orleans water disaster\n",
      "|     #390 (251, 13) : imports million products billion meat\n",
      "|     #507 (153, 4) : smallpox russia climate extreme disease\n",
      "|   #98 (80, 19) : pool pee hot gallons drink\n",
      "|     #252 (177, 3) : lsd accidental psychoactive dosing exposure\n",
      "|     #422 (280, 16) : woman doctors pain journal england\n",
      "|   #99 (300, 27) : treats salmonella tampons pig ear\n",
      "|     #209 (341, 12) : species conservation oil impact extinction\n",
      "|     #530 (241, 15) : birds sink raw turkey bacteria\n",
      "|   #100 (256, 10) : migration percent places live home\n",
      "|     #109 (335, 7) : average salary annual team pay\n",
      "|     #463 (265, 3) : schizophrenia medication attention study memory\n",
      "|   #101 (172, 14) : birds humans neanderthals song human\n",
      "|     #395 (170, 14) : patients pain surgeons surgery knee\n",
      "|   #102 (558, 69) : percent women study people adhd\n",
      "|     #219 (342, 26) : food depression latex anxiety diet\n",
      "|     #260 (255, 8) : ebola people measles congo outbreak\n",
      "|     #296 (191, 15) : patients room emergency depression nurses\n",
      "|     #305 (109, 6) : alcohol hot tea teas cold\n",
      "|     #397 (221, 14) : pain psychosis patients francis acetaminophen\n",
      "|   #103 (576, 62) : ice sea arctic climate bears\n",
      "|     #112 (833, 62) : change study climate ocean published\n",
      "|   #120 (541, 50) : income household class state live\n",
      "|     #113 (1155, 50) : percent deaths drug overdose study\n",
      "|   #121 (294, 40) : species pine north forests native\n",
      "|     #68 (230, 4) : people extreme beliefs term mentally\n",
      "|     #114 (106, 4) : parks canada national report conservation\n",
      "|     #171 (202, 20) : america south trees latin buenos\n",
      "|     #559 (292, 12) : climate change species unesco earth\n",
      "|   #122 (216, 25) : food efsa vegetable protein broccoli\n",
      "|     #115 (156, 7) : chicken sandwiches dna percent subway\n",
      "|     #223 (161, 12) : water rio olympic friend poop\n"
     ]
    },
    {
     "output_type": "stream",
     "name": "stderr",
     "text": [
      "Saving...\n"
     ]
    },
    {
     "output_type": "stream",
     "name": "stdout",
     "text": [
      "|     #326 (170, 6) : attacks havana affected symptoms patients\n",
      "|   #123 (1161, 170) : cosby bill judge comedian assault\n",
      "|     #119 (720, 37) : federal court guilty morgan metals\n",
      "|     #140 (815, 114) : los angeles court britain wednesday\n",
      "|     #170 (87, 19) : dolores verdict dublin pigs slaughter\n",
      "|   #124 (170, 17) : whales sanctuary whale south international\n",
      "|     #218 (138, 10) : carolina oregon portland charleston south\n",
      "|     #535 (98, 7) : wilderness earth square area miles\n",
      "|   #125 (601, 76) : bacteria antibiotics infections resistant image\n",
      "|     #131 (249, 24) : cells venom vaccine culture time\n",
      "|     #155 (197, 24) : nuclear hawaii emergency disaster quake\n",
      "|     #461 (235, 7) : water scarcity year team global\n",
      "|     #474 (187, 14) : different skin noise signal drug\n",
      "|     #508 (100, 7) : harvey surgery rub hands fingers\n",
      "|   #126 (359, 23) : median home beach older retirement\n",
      "|     #135 (268, 23) : island miami city list coast\n",
      "|   #127 (97, 9) : city background uber austin checks\n",
      "|     #142 (331, 9) : thc blood breathalyzer impairment drivers\n",
      "|   #144 (396, 36) : cheese products food recalled salmonella\n",
      "|     #152 (226, 10) : salad bat eggs raw animal\n",
      "|     #177 (194, 17) : coffee disease drug company cup\n",
      "|     #528 (216, 9) : chemicals products flame retardants furniture\n",
      "|   #145 (620, 34) : hpv cancer cervical cancers health\n",
      "|     #287 (388, 34) : vaccine disease virus control boys\n",
      "|   #146 (457, 73) : scientists malaria parasites diseases called\n",
      "|     #110 (448, 25) : cannabis medical patients marijuana oil\n",
      "|     #162 (466, 16) : climate change sea rise level\n",
      "|     #254 (267, 32) : brazil condition brasilia syndrome babies\n",
      "|   #147 (275, 27) : tattoo infection rare skin swimming\n",
      "|     #221 (410, 13) : female species male males hunters\n",
      "|     #355 (214, 5) : speech space depression diabetes known\n",
      "|     #733 (165, 9) : bacteria kong hong diseases resistance\n",
      "|   #148 (249, 15) : plants plant pot risk cannabis\n",
      "|     #391 (318, 5) : pan says ben treatment brain\n",
      "|     #455 (206, 10) : city offices beach indoor kinds\n",
      "|   #149 (195, 37) : virus diet zika protein allergies\n",
      "|     #179 (531, 23) : bacteria fecal human gut researchers\n",
      "|     #466 (445, 14) : psychedelics mdma treatment experience anxiety\n",
      "|   #150 (290, 17) : hiv trans people men sex\n",
      "|     #351 (282, 6) : pollution air hurt facilities state\n",
      "|     #359 (198, 11) : drug trial hiv-positive patients given\n",
      "|   #151 (163, 41) : marriage suicide same-sex policies students\n",
      "|     #186 (176, 5) : sales hiv aids went search\n",
      "|     #430 (740, 36) : pain chronic opioids use people\n",
      "|   #200 (857, 63) : insys federal charges pain guilty\n",
      "|     #232 (97, 11) : south seoul employees korea indicted\n",
      "|     #273 (334, 24) : guilty court prison pleaded sentenced\n",
      "|     #456 (134, 7) : china environmental city authorities uncovered\n",
      "|     #597 (149, 4) : experience reported researchers doctors seeing\n",
      "|     #620 (246, 14) : treatment withdrawal time methadone drugs\n",
      "|     #700 (240, 3) : cannabis high mutation collins body\n",
      "|   #201 (262, 19) : rats smoke exposed radiation humans\n",
      "|     #298 (352, 14) : marijuana use pot medical percent\n",
      "|     #572 (109, 5) : animals reproduction experiments lab healthy\n",
      "|   #202 (248, 7) : alimony tax income law divorce\n",
      "|     #356 (293, 7) : marijuana cannabis use medical patients\n",
      "|   #203 (63, 7) : loss hearing veterans miles implants\n",
      "|     #215 (463, 4) : tax preparer irs return preparers\n",
      "|     #524 (213, 3) : investor fasting cancer tech valley\n",
      "|   #204 (197, 30) : drug study addiction depression reporting\n",
      "|     #193 (645, 30) : johnson recall food devices fda\n",
      "|   #205 (437, 35) : hair acne skin stress study\n",
      "|     #217 (343, 35) : women symptoms menopause arbor ann\n",
      "|   #206 (233, 20) : black women physician woman medicine\n",
      "|     #337 (208, 4) : syndrome schizophrenia symptoms souza person\n",
      "|     #725 (290, 16) : medical doctors physicians work surgeon\n",
      "|   #207 (164, 48) : botox depression researchers trial tested\n",
      "|     #74 (364, 11) : genome sequencing species genes quinoa\n",
      "|     #196 (277, 2) : yoga therapy animals benefits goat\n",
      "|     #575 (227, 17) : women birth postpartum unmarried mothers\n",
      "|     #710 (150, 8) : artificial alive womb humans developing\n",
      "|     #728 (365, 10) : patients percent study white care\n",
      "|   #240 (118, 8) : biologics biologic manufacturing mit institutions\n",
      "|     #538 (239, 8) : percent survey respondents americans editing\n",
      "|   #241 (132, 32) : died bacterium florida department peptides\n",
      "|     #458 (822, 32) : antibiotics bacteria antibiotic resistance health\n",
      "|   #242 (311, 24) : dog dogs breeds breed genetic\n",
      "|     #294 (295, 14) : ear hearing study loss tinnitus\n",
      "|     #742 (243, 10) : virus zika herpes species pregnant\n",
      "|   #243 (297, 38) : puerto rico hurricane medical maria\n",
      "|     #270 (106, 7) : communications friday fcc application service\n",
      "|     #302 (292, 10) : rico puerto debt island investors\n",
      "|     #306 (332, 19) : sleep depression therapy cbt insomnia\n",
      "|     #341 (177, 2) : children cbd seizures epilepsy epidiolex\n",
      "|   #244 (264, 12) : google workers contractors employees full-time\n",
      "|     #277 (330, 12) : heroin drug drugs police state\n",
      "|   #245 (190, 18) : women abortion mdma highest rates\n",
      "|     #279 (200, 18) : vice episode app weediquette krishna\n",
      "|   #246 (219, 15) : surgery heart deaths valve edwards\n",
      "|     #367 (264, 15) : dopamine brain drug opioid heart\n",
      "|   #247 (328, 24) : cells cloning skin sheep team\n",
      "|     #289 (257, 14) : ago years scientists animals humans\n",
      "|     #354 (155, 10) : cholesterol soy protein therapy benefits\n",
      "|   #312 (154, 60) : symptoms vienna died tincture medicine\n",
      "|     #84 (796, 51) : depression lsd psychedelics psychedelic anxiety\n",
      "|     #644 (335, 9) : wildlife illegal dark net sites\n",
      "|   #313 (1344, 55) : apple watch heart health patients\n",
      "|     #239 (464, 28) : blood pressure heart app hypertension\n",
      "|     #447 (223, 12) : falls exercise study training researchers\n",
      "|     #478 (469, 15) : fda insulin patient patients medical\n",
      "|   #314 (192, 12) : marijuana court ballot police california\n",
      "|     #346 (151, 12) : deaths county holiday opioid spike\n",
      "|   #315 (132, 14) : fish cave human psychiatric genes\n",
      "|     #267 (243, 14) : brain activity study imaging drug\n",
      "|   #316 (180, 15) : ayahuasca brain users psychedelic receptor\n",
      "|     #525 (233, 12) : overdose effects cannabis drugs drug\n",
      "|     #551 (196, 3) : pain opioids kratom fall leg\n",
      "|   #317 (180, 13) : energy home death caffeine deceased\n",
      "|     #510 (126, 13) : miners settlement contracted johannesburg long\n",
      "|   #318 (269, 15) : thc cannabis cbd weed body\n",
      "|     #128 (311, 15) : alzheimer brain researchers disease cells\n",
      "|   #319 (243, 63) : reef australia coral tourism great\n",
      "|     #324 (519, 63) : thomson foundation world sydney disease\n",
      "|   #328 (168, 10) : smoking honey syrup sinus nasal\n",
      "|     #373 (231, 10) : sugar tea liver supplements food\n",
      "|   #329 (520, 30) : women orgasm sex sexual percent\n",
      "|     #441 (348, 22) : suicide rates prevention euthanasia mental\n",
      "|     #687 (103, 8) : robot robots follow trust results\n",
      "|   #330 (310, 57) : brain sugar ketamine body neural\n",
      "|     #285 (477, 30) : babies infants born study autism\n",
      "|     #372 (197, 2) : sweating therapy called sweat excessive\n",
      "|     #385 (150, 9) : depression brain damage neurons cure\n",
      "|     #420 (372, 8) : bees honeybees bee researchers spread\n",
      "|     #544 (121, 3) : food hospital taste served nutritious\n",
      "|     #704 (102, 5) : water spring reserve canadians lawsuit\n",
      "|   #331 (345, 23) : breast cancer women dense breasts\n",
      "|     #371 (235, 10) : testing test gonorrhea tests detection\n",
      "|     #618 (158, 8) : pregnancy embryos andrea ivf embryo\n",
      "|     #670 (144, 5) : abortion says pills irish michelle\n",
      "|   #332 (135, 15) : syndrome doctors pregnancy alcohol man\n",
      "|     #375 (236, 15) : baby mother parents birth child\n",
      "|   #333 (557, 17) : talc johnson company asbestos baby\n",
      "|     #365 (131, 14) : preeclampsia mothers amsterdam rates trial\n",
      "|     #529 (192, 3) : terrorists virtual mental mental-health threat\n",
      "|   #334 (97, 17) : snake wildlife texas snakes gasoline\n",
      "|     #505 (330, 17) : mental health physicians doctors treatment\n",
      "|   #335 (207, 33) : dialysis kidney patients organs infected\n",
      "|     #394 (266, 20) : addiction disease plague parasite scientists\n",
      "|     #537 (300, 13) : viagra dysfunction men erectile sexual\n",
      "|   #400 (115, 14) : children child rates mortality rains\n",
      "|     #399 (280, 14) : patients facial bone volume associated\n",
      "|   #401 (106, 18) : drug fda products kratom sewage\n",
      "|     #408 (270, 8) : police civil forfeiture equipment ontario\n",
      "|     #569 (271, 10) : state drug walgreens opioid lawsuit\n",
      "|   #402 (77, 4) : benzos deaths primary benzodiazepines epidemic\n",
      "|     #413 (162, 4) : mountain feet sickness acute pulmonary\n",
      "|   #403 (246, 12) : fitbit rate heart suit paypal\n",
      "|     #523 (224, 12) : children program families money free\n",
      "|   #404 (265, 3) : google memo employees protected employee\n",
      "|     #612 (116, 3) : claims gsk suit mistakes race\n",
      "|   #405 (126, 10) : smoking tobacco report films fitzgerald\n",
      "|     #416 (168, 10) : department kansas norovirus ill health\n",
      "|   #406 (137, 5) : performance enhancement stem hormone east\n",
      "|     #685 (201, 5) : patient fda death safety reports\n",
      "|   #407 (111, 3) : oracle labor department alleges complaint\n",
      "|     #664 (142, 3) : natural products health detox program\n",
      "|   #432 (292, 30) : art calm program mindfulness teach\n",
      "|     #521 (294, 19) : weight food foods calories eat\n",
      "|     #543 (170, 7) : cancer neck man months radiation\n",
      "|     #652 (161, 4) : lifespans birth teen natural high\n",
      "|   #433 (107, 9) : zuckerberg chan funds arctic world\n",
      "|     #348 (112, 9) : wounds mucus heal surgery surgical\n",
      "|   #434 (98, 5) : beliefs monday sentences barnes wealthy\n",
      "|     #738 (165, 5) : lawyers percent law technology legal\n",
      "|   #435 (85, 6) : eggs netherlands horses consortium insecticide\n",
      "|     #271 (181, 6) : chemical weapons lethal medication injection\n",
      "|   #436 (205, 16) : running exercise way fat hormone\n",
      "|     #610 (361, 16) : genetic 23andme company testing genetics\n",
      "|   #437 (343, 24) : air pollution matter exposure diagnosed\n",
      "|     #264 (301, 15) : anxiety years benzos panic xanax\n",
      "|     #527 (203, 9) : gut bacteria infection bacterial england\n",
      "|   #438 (96, 8) : number baby died injury norman\n",
      "|     #389 (209, 8) : parents divorce biological people researchers\n",
      "|   #439 (113, 25) : babies rural wellbeing volunteering features\n",
      "|     #582 (534, 25) : transgender people health care healthcare\n",
      "|   #480 (323, 35) : patients fda devices panel drug\n",
      "|     #513 (468, 31) : diabetes insulin blood type sugar\n",
      "|     #695 (170, 4) : pain cat cats signs indicate\n",
      "|   #481 (231, 36) : compound jacob viruses compounds respiratory\n",
      "|     #498 (1557, 36) : flu season vaccine people cdc\n",
      "|   #482 (100, 15) : eye test lenses ignore glaucoma\n",
      "|     #286 (205, 8) : patients hospital nhs surgery eye\n",
      "|     #545 (330, 7) : cancer google pancreatic searches search\n",
      "|   #483 (315, 13) : cancer marijuana patients cannabis amazon\n",
      "|     #500 (143, 7) : cannabis plant weed smoke ways\n",
      "|     #643 (205, 6) : patient surgeon fill body bone\n",
      "|   #484 (157, 5) : sex members behavior male males\n",
      "|     #554 (191, 5) : plants gluten enzymes carbon dioxide\n",
      "|   #485 (138, 20) : robots researchers offenders chemical mutations\n",
      "|     #512 (339, 20) : sex sexual men addiction mental\n",
      "|   #486 (87, 5) : water tap flint residents bottles\n",
      "|     #608 (115, 5) : yoga teachers getting healing teeth\n",
      "|   #487 (173, 9) : trump llc taxes children document\n",
      "|     #462 (178, 9) : h-1b master lottery candidates visa\n",
      "|   #560 (81, 4) : injuries ancient sanitation scooters plumbing\n",
      "|     #637 (138, 4) : body treatments remedy parts doctor\n",
      "|   #561 (127, 9) : agreement tourism environmental environment hotels\n",
      "|     #594 (270, 9) : deepmind data google nhs kidney\n",
      "|   #562 (198, 4) : dna genetic data nootropics 23andme\n",
      "|     #587 (243, 4) : housing projects neighborhoods public city\n",
      "|   #563 (656, 8) : tobacco juul smoking vaping e-cigarettes\n",
      "|     #665 (346, 8) : price memo committee shares property\n",
      "|   #564 (118, 25) : cpr lungs breathing victim epinephrine\n",
      "|     #599 (512, 25) : ptsd women men disorder military\n",
      "|   #565 (185, 6) : herpes dan know tested test\n",
      "|     #641 (186, 6) : data apple doctoral poverty african\n",
      "|   #566 (373, 6) : stores cvs walgreens health services\n",
      "|     #701 (141, 6) : healthhubs care sleep apnea train\n",
      "|   #567 (388, 20) : climate change voting support record\n",
      "|     #584 (225, 14) : mold buildings stress environments exposure\n",
      "|     #755 (202, 6) : plasma blood young fda mice\n",
      "|   #712 (151, 16) : sleep workers anxiety sen fitbit\n",
      "|     #709 (149, 16) : insects women food insect farming\n",
      "|   #714 (150, 4) : uber sexual executive woman driver\n",
      "|     #703 (234, 4) : lee says medieval antibiotic team\n",
      "|   #715 (88, 17) : doctor patients patient questions feel\n",
      "|     #737 (337, 17) : women birth hospital births woman\n",
      "|   #717 (176, 6) : anorexia weight treatments treatment specialized\n",
      "|     #732 (197, 6) : sleep milk night effects drug\n",
      "|\n",
      "\n",
      "[0 0 0] [('pennsylvania', 0.05882352963089943), ('lawyers', 0.05882352963089943), ('cosby', 0.05882352963089943), ('case', 0.05882352963089943), ('comedian', 0.05882352963089943), ('tuesday', 0.05882352963089943), ('defense', 0.05882352963089943), ('bill', 0.05882352963089943), ('sexual', 0.05882352963089943), ('ordered', 0.05882352963089943)]\n",
      "[ 0  9 17] [('health', 0.06666667014360428), ('zika', 0.04444444552063942), ('caribbean', 0.04444444552063942), ('country', 0.04444444552063942), ('virus', 0.04444444552063942), ('ministry', 0.04444444552063942), ('cases', 0.04444444552063942), ('lucia', 0.04444444552063942), ('rare', 0.02222222276031971), ('castries', 0.02222222276031971)]\n",
      "[  0 319 324] [('trump', 0.1304347813129425), ('donald', 0.08695652335882187), ('look', 0.043478261679410934), ('ready', 0.043478261679410934), ('public', 0.043478261679410934), ('election', 0.043478261679410934), ('peek', 0.043478261679410934), ('information', 0.043478261679410934), ('records', 0.043478261679410934), ('interview', 0.043478261679410934)]\n",
      "[0 0 0] [('fat', 0.11764705926179886), ('calorie', 0.11764705926179886), ('muscle', 0.11764705926179886), ('need', 0.11764705926179886), ('surplus', 0.05882352963089943), ('task', 0.05882352963089943), ('losing', 0.05882352963089943), ('deficit', 0.05882352963089943), ('gaining', 0.05882352963089943), ('impossible', 0.05882352963089943)]\n",
      "[  0   9 379] [('percent', 0.04545454680919647), ('financial', 0.034090910106897354), ('northwestern', 0.034090910106897354), ('mutual', 0.034090910106897354), ('people', 0.022727273404598236), ('costs', 0.022727273404598236), ('future', 0.022727273404598236), ('budget', 0.022727273404598236), ('role', 0.022727273404598236), ('caregivers', 0.022727273404598236)]\n",
      "[nltk_data] Downloading package wordnet to /root/nltk_data...\n",
      "[nltk_data]   Package wordnet is already up-to-date!\n"
     ]
    },
    {
     "output_type": "stream",
     "name": "stderr",
     "text": [
      "Training...\n"
     ]
    },
    {
     "output_type": "stream",
     "name": "stdout",
     "text": [
      "Num docs: 15062 , Vocab size: 4675 , Num words: 334389\n",
      "Removed top words: []\n",
      "Iteration: 00010\tll per word: -inf\tNum. of topics: 148\n",
      "Iteration: 00020\tll per word: -inf\tNum. of topics: 176\n",
      "Iteration: 00030\tll per word: -inf\tNum. of topics: 192\n"
     ]
    }
   ]
  },
  {
   "cell_type": "code",
   "source": [
    "model= LdaModel.load('/content/drive/My Drive/fourthbrain/capstone/subsample2/lda/test-lda')\n",
    "mdl0= tp.HLDAModel.load('/content/drive/My Drive/fourthbrain/capstone/subsample2/test-hlda0.tmm')\n",
    "mdl1= tp.HLDAModel.load('/content/drive/My Drive/fourthbrain/capstone/subsample2/test-hlda1.tmm')\n",
    "mdl2= tp.HLDAModel.load('/content/drive/My Drive/fourthbrain/capstone/subsample2/test-hlda2.tmm')\n",
    "mdl3= tp.HLDAModel.load('/content/drive/My Drive/fourthbrain/capstone/subsample2/test-hlda3.tmm')\n"
   ],
   "metadata": {
    "id": "KA2YM3mWJSaU",
    "pycharm": {
     "name": "#%%\n"
    }
   },
   "execution_count": 38,
   "outputs": []
  },
  {
   "cell_type": "code",
   "source": [
    "cluster_names = {#name the clusters as seems reasonable\n",
    "    0: \"Science and Technology\",#tech and business\n",
    "    1: \"Health/Science/Drugs\",#health\n",
    "    2: \"Business/Tech/BioTech\",#business\n",
    "    3: \"Entertainment/News\" \n",
    "}\n",
    "#Test articles\n",
    "# other_texts = {'txt':['The human genome is made up of about 3.1 billion DNA subunits, pairs of chemical bases known by the letters A, C, G and T. Genes are strings of these lettered pairs that contain instructions for making proteins, the building blocks of life. Humans have about 30,000 genes, organized in 23 groups called chromosomes that are found in the nucleus of every cell']}\n",
    "# other_texts = {'txt':['Oliveira missed championship weight by half a pound at the official weigh-ins, using up almost the entirety of the initial two-hour window before making his first attempt and then taking another hour before stepping to the scale again. Both times he came in at 155.5 pounds. His UFC 274 main event challenger Justin Gaethje showed up minutes after the weigh-ins began, hitting 155 on the dot. It was later announced that Oliveira would be stripped of his title and that only Gaethje would be eligible to leave Footprint Center in Phoenix with the belt around his waist.']}\n",
    "# other_texts = {'txt':['The Centre for Creative and Immersive XR (extended reality - an umbrella term for all types of digital reality, from the immersive VR viewed in headsets, to AR games like Pokemon Go, in which graphics are posted over the real world as seen through a smartphone camera) has received more than £5m in funding, including a £3.6m government grant']}\n",
    "# other_texts = {'txt':['Rooftop solar has a “huge potential” to cut air pollution, create jobs, protect against outages and shrink utility bills, said Mark Jacobson, a professor of civil and environmental engineering at Stanford University. The technology will be vital for the U.S. to make the transition to all-renewable energy by 2050, he said.']}\n",
    "# other_texts = {'txt':['The Kings finalized a deal with Brown on Sunday after meeting with him over two days late last week, sources said. Brown comes to the Kings with a clear organizational mandate: End the longest playoff drought in NBA history and return the Kings to the postseason for the first time in 16 years.']}\n",
    "# other_texts = {'txt':['Patients with KRAS-mutant colorectal cancers do not respond to cetuximab, a monoclonal antibody against EGFR. A new proof-of-concept study presents a bispecific antibody with the ability to trigger EGFR degradation in LGR5+ cancer stem cells, and robust anti-tumor activity in KRAS-mutant and wild-type colorectal cancers.']}\n",
    "other_texts = {'txt':['Bitcoin continued to slide after a broader stock sell-off in the U.S. last week sent the cryptocurrency market into a frenzy and prompted bitcoin to plummet by roughly 10%. Bitcoin, the world’s largest digital currency by market value, was lower by about 3% at $33,438.03 late Sunday, according to data from Coin Metrics. This year, Bitcoin has been trading in a narrow range as it attempts to reclaim its highs of late 2021. The cryptocurrency is now down 50% from its peak price of $67,802.30 in November 2021. The drop comes after the blue-chip Dow Jones Industrial Average lost more than 1,000 points on Thursday and the Nasdaq plunged by 5%. Those losses marked the worst single-day drops since 2020. The Dow and Nasdaq fell again on Friday. \\\n",
    "# \\ Meanwhile, the Federal Reserve on Wednesday raised its benchmark interest rate by half a percentage point as it responds to inflation pressures.\\\n",
    "# \\ The stock market rallied after Fed chair Jerome Powell said a larger rate hike of 75 basis points isn’t being considered. But by Thursday, investors had erased the Fed rally’s gains.\\\n",
    "# \\ The global cryptocurrency market cap was at $1.68 trillion on Sunday, according to data from CoinGecko.com, and cryptocurrency trading volume in the last day was at $119 billion.']}\n",
    "#--------------\n",
    "other_texts=pd.DataFrame(other_texts) #Convert dictionary to dataframe\n",
    "nltk.download('wordnet')\n",
    "lemmatizer = WordNetLemmatizer()  \n",
    "\n",
    "pat = re.compile('\\w+')\n",
    "corpus_unseen = tp.utils.Corpus(\n",
    "        tokenizer=tp.utils.SimpleTokenizer(stemmer=None,lowercase=True), \n",
    "        stopwords=lambda x: len(x) <= 2 or x in en_stop or x.isnumeric() or not pat.match(x) or not lemmatizer.lemmatize(x)\n",
    "    )\n",
    "unseen = other_texts['txt']\n",
    "corpus_unseen.process(d.lower() for d in unseen)\n",
    "\n",
    "dict_gensim,corpus_gensim=preprocess(list(other_texts['txt']),other_texts['txt'],1,False) #Preprocess the dataframe\n",
    "unseen_doc = corpus_gensim[0]\n",
    "vector = model[unseen_doc]  # get topic probability distribution for a document\n",
    "topic_number, proba = sorted(vector, key=lambda item: item[1])[-1]\n",
    "topic_number2, proba2 = sorted(vector, key=lambda item: item[1])[-2]#thinking of using the second topic only, since first doesnt change--decide later\n",
    "\n",
    "tn=0\n",
    "if proba>0.49:#increased to 0.49 for selecting first topic so that we see it only if the model is atleast 50% positive, else not worth it\n",
    "  tn=topic_number\n",
    "else:\n",
    "  tn=topic_number2\n",
    "if proba < 0.2:\n",
    "  print(-1, -1)\n",
    "else:\n",
    "  print(cluster_names.get(topic_number), proba)\n",
    "  print(cluster_names.get(topic_number2), proba2)\n",
    "hldamdl=tp.HLDAModel()\n",
    "if tn==0:\n",
    "  hldamdl=mdl0\n",
    "elif tn==1:\n",
    "  hldamdl=mdl1\n",
    "elif tn==2:\n",
    "  hldamdl=mdl2\n",
    "elif tn==3:\n",
    "  hldamdl=mdl3\n"
   ],
   "metadata": {
    "colab": {
     "base_uri": "https://localhost:8080/"
    },
    "id": "Zv2DaFuE0xgu",
    "outputId": "0ac3b462-9e60-48ba-a9e8-16823ba3822a",
    "pycharm": {
     "name": "#%%\n"
    }
   },
   "execution_count": 47,
   "outputs": [
    {
     "output_type": "stream",
     "name": "stdout",
     "text": [
      "[nltk_data] Downloading package wordnet to /root/nltk_data...\n",
      "[nltk_data]   Package wordnet is already up-to-date!\n",
      "[nltk_data] Downloading package wordnet to /root/nltk_data...\n",
      "[nltk_data]   Package wordnet is already up-to-date!\n",
      "-----------------------------------------\n",
      "Number of unique tokens: 91\n",
      "Number of documents: 1\n",
      "Entertainment/News--entertainment 0.7824971\n",
      "Science and Technology-tech&biz 0.21300118\n"
     ]
    },
    {
     "output_type": "stream",
     "name": "stderr",
     "text": [
      "/usr/local/lib/python3.7/dist-packages/gensim/models/phrases.py:598: UserWarning: For a faster implementation, use the gensim.models.phrases.Phraser class\n",
      "  warnings.warn(\"For a faster implementation, use the gensim.models.phrases.Phraser class\")\n"
     ]
    }
   ]
  },
  {
   "cell_type": "code",
   "source": [
    "mdls=[mdl0,mdl1,mdl2,mdl3]\n",
    "lst=[]\n",
    "for i in mdls:\n",
    "  itest_result_cps, ill=i.infer(corpus_unseen)\n",
    "  lst.append((itest_result_cps,abs(ill)))\n",
    "  s1=other_texts['txt'][0]\n",
    "maxll=max(lst,key=lambda item:item[1])[1]\n",
    "maxcps=max(lst,key=lambda item:item[1])[0]\n",
    "max_index = lst.index((maxcps,maxll))\n",
    "md=mdls[max_index]\n",
    "\n",
    "for doc in maxcps:\n",
    "    for path in doc.path:\n",
    "      if path==0:\n",
    "        print('Root Topic is {}'.format(cluster_names.get(max_index)))\n",
    "        print('Subtopics Level {}:\\n{}'.format(path,[i[0] for i in md.get_topic_words(path)]))\n",
    "      else:\n",
    "        print('Subtopics Level {}:\\n{}'.format(path,[i[0] for i in md.get_topic_words(path)]))\n",
    "    print('Original Unseen Word|Probability pairs:\\n{}'.format(doc.get_words(top_n=10)))\n",
    "\n",
    "skdict={'Root':[],\n",
    "        'ST0':[],\n",
    "        'ST1':[],\n",
    "        'ST2':[],\n",
    "        'ST3':[],\n",
    "        'Prob':[]}\n",
    "skdict['Root'].append(cluster_names.get(max_index))\n",
    "for doc in maxcps:\n",
    "    for i,path in enumerate(doc.path):\n",
    "        skdict['ST'+str(i)].append([i[0] for i in md.get_topic_words(path)])\n",
    "for word,prob in doc.get_words(top_n=10):\n",
    "  skdict['ST3'].append(word)\n",
    "  skdict['Prob'].append(prob)\n",
    "\n"
   ],
   "metadata": {
    "colab": {
     "base_uri": "https://localhost:8080/"
    },
    "id": "tToOxGuo8Ntw",
    "outputId": "4e6bacdc-9d39-4724-ccc6-e4ae84204703",
    "pycharm": {
     "name": "#%%\n"
    }
   },
   "execution_count": 48,
   "outputs": [
    {
     "output_type": "stream",
     "name": "stdout",
     "text": [
      "Root Topic is Entertainment/News--entertainment\n",
      "Subtopics Level 0:\n",
      "['people', 'company', 'facebook', 'data', 'according', 'told', 'internet', 'motherboard', 'twitter', 'information']\n",
      "Subtopics Level 8:\n",
      "['time', 'people', 'world', 'years', 'work', 'way', 'life', 'know', 'year', 'day']\n",
      "Subtopics Level 202:\n",
      "['shkreli', 'stewart', 'martin', 'fund', 'wrote', 'hedge', 'drug', 'pharma', 'price', 'wu-tang']\n",
      "Original Unseen Word|Probability pairs:\n",
      "[('bitcoin', 0.03773584961891174), ('cryptocurrency', 0.03773584961891174), ('market', 0.03773584961891174), ('dow', 0.01886792480945587), ('stock', 0.01886792480945587), ('rate', 0.01886792480945587), ('trading', 0.01886792480945587), ('data', 0.01886792480945587), ('late', 0.01886792480945587), ('according', 0.01886792480945587)]\n"
     ]
    }
   ]
  },
  {
   "cell_type": "code",
   "source": [
    "#Tree structure with one random topic selected from level 1\n",
    "print('Root Topic 0:   \\t\\t{}'.format(cluster_names.get(max_index)))\n",
    "offbranchtopiclevel2=md.children_topics(0)[:2]\n",
    "for doc in maxcps:\n",
    "    for i,path in enumerate(doc.path):\n",
    "      if path==0:\n",
    "        # print('Root Topic is {}'.format(cluster_names.get(max_index)))\n",
    "        # print('Subtopics Level {}:\\n{}'.format(path,[i[0] for i in md.get_topic_words(path)]))\n",
    "        continue\n",
    "      elif i==1:\n",
    "        offbranchtopiclevel1=[j for j in md.children_topics(0) if j!=path]\n",
    "        print('\\n{}:{} \\t\\tAND\\t\\t {}:{} '.format(path,[i[0] for i in md.get_topic_words(path)][:2],offbranchtopiclevel1[0],[i[0] for i in md.get_topic_words(offbranchtopiclevel1[0])][:2]))\n",
    "      elif i==2:\n",
    "        offbranchtopiclevel2=[j for j in md.children_topics(offbranchtopiclevel1[0]) if j!=path]\n",
    "        print('\\n{}:{} \\t\\tAND\\t\\t {}:{} '.format(path,[i[0] for i in md.get_topic_words(path)][:2],offbranchtopiclevel2[0],[i[0] for i in md.get_topic_words(offbranchtopiclevel2[0])][:2]))\n",
    "        # print('\\n{}:{}'.format(path,[i[0] for i in md.get_topic_words(path)]))\n",
    "    print('\\n\\n\\n\\nOriginal Unseen Word|Probability pairs:\\n{}'.format(doc.get_words(top_n=10)))"
   ],
   "metadata": {
    "colab": {
     "base_uri": "https://localhost:8080/"
    },
    "id": "_BvqO3AY7HBs",
    "outputId": "57217d78-e4fb-4314-cf9a-a9ae13fc66e1",
    "pycharm": {
     "name": "#%%\n"
    }
   },
   "execution_count": null,
   "outputs": [
    {
     "output_type": "stream",
     "name": "stdout",
     "text": [
      "Root Topic 0:   \t\tHealth/Science/Drugs\n",
      "\n",
      "115:['testing', 'gonorrhea'] \t\tAND\t\t 63:['cfo', 'evotec'] \n",
      "\n",
      "138:['screening', 'health'] \t\tAND\t\t 328:['sedation', 'injection'] \n",
      "\n",
      "\n",
      "\n",
      "\n",
      "Original Unseen Word|Probability pairs:\n",
      "[('egfr', 0.0833333358168602), ('antibody', 0.0833333358168602), ('colorectal', 0.0833333358168602), ('cancers', 0.0833333358168602), ('proof-of-concept', 0.0416666679084301), ('ability', 0.0416666679084301), ('bispecific', 0.0416666679084301), ('cells', 0.0416666679084301), ('cancer', 0.0416666679084301), ('presents', 0.0416666679084301)]\n"
     ]
    }
   ]
  },
  {
   "cell_type": "code",
   "source": [
    "#2 levels with first level from HLDA and 2nd level from LDA\n",
    "print('Root Topic:   \\t\\t\\t\\t{}'.format(cluster_names.get(max_index)))\n",
    "print('Level 1: ({}->{})\\t \\t({}->{})'.format(cluster_names.get(topic_number), proba,cluster_names.get(topic_number2), proba2))"
   ],
   "metadata": {
    "colab": {
     "base_uri": "https://localhost:8080/"
    },
    "id": "ZT-Lyd62lyRV",
    "outputId": "073ff4ef-09bf-451f-e1a5-5d121c1c1814",
    "pycharm": {
     "name": "#%%\n"
    }
   },
   "execution_count": null,
   "outputs": [
    {
     "output_type": "stream",
     "name": "stdout",
     "text": [
      "Root Topic:   \t\t\t\tHealth/Science/Drugs\n",
      "Level 1: (Business/Tech/BioTech->0.41334280371665955)\t \t(Science and Technology->0.3569861054420471)\n"
     ]
    }
   ]
  }
 ]
}